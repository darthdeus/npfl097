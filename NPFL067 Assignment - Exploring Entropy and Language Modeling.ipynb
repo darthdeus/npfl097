{
 "cells": [
  {
   "cell_type": "code",
   "execution_count": 155,
   "metadata": {},
   "outputs": [],
   "source": [
    "import math\n",
    "import random\n",
    "import numpy as np\n",
    "\n",
    "import matplotlib.pyplot as plt\n",
    "%matplotlib inline\n",
    "\n",
    "from collections import defaultdict, Counter\n",
    "from glob import glob"
   ]
  },
  {
   "cell_type": "code",
   "execution_count": 156,
   "metadata": {},
   "outputs": [],
   "source": [
    "with open(\"data/TEXTEN1.txt\", \"r\") as f:\n",
    "    text_en = f.read()\n",
    "\n",
    "with open(\"data/TEXTCZ1.txt\", \"r\", encoding=\"iso8859_2\") as f:\n",
    "    text_cz = f.read()"
   ]
  },
  {
   "cell_type": "code",
   "execution_count": 157,
   "metadata": {},
   "outputs": [],
   "source": [
    "def perturb(text, p):\n",
    "    \"\"\"\n",
    "    Randomly replace letters with probability `p`,\n",
    "    while keeping word barriers intact.\n",
    "    \"\"\"\n",
    "    alphabet = list(set(text_en) - set([\"\\n\"]))\n",
    "    \n",
    "    return \"\".join([c\n",
    "                    if (random.random() > p or c == \"\\n\")\n",
    "                    else random.choice(alphabet)\n",
    "                    for c in text])\n",
    "\n",
    "\n",
    "def split_text(text):\n",
    "    words = text.split(\"\\n\")\n",
    "    bigrams = list(zip(words, words[1:])) + [(words[-1], \"<END>\")]\n",
    "    \n",
    "    return words, bigrams"
   ]
  },
  {
   "cell_type": "code",
   "execution_count": 158,
   "metadata": {},
   "outputs": [],
   "source": [
    "X = np.arange(0, 1.01, step=0.2)\n",
    "texts = [perturb(text_en, e) for e in X]"
   ]
  },
  {
   "cell_type": "code",
   "execution_count": 159,
   "metadata": {},
   "outputs": [],
   "source": [
    "a, b = split_text(texts[0])\n",
    "assert len(a) == len(b)  # Just to make sure we padded the bigrams correctly"
   ]
  },
  {
   "cell_type": "code",
   "execution_count": 173,
   "metadata": {},
   "outputs": [],
   "source": [
    "def text_entropy(text, plot=False):\n",
    "    words, bigrams = split_text(text)\n",
    "    \n",
    "    c_1 = Counter(words)\n",
    "    c_2 = Counter(bigrams)\n",
    "    \n",
    "    total_c1 = sum(c_1.values())\n",
    "    total_c2 = sum(c_2.values())\n",
    "    \n",
    "    assert total_c1 == total_c2\n",
    "    \n",
    "    p_1 = {word: float(count) / total_c1 for word, count in c_1.items()}\n",
    "    p_2 = {word: float(count) / total_c2 for word, count in c_2.items()}\n",
    "    \n",
    "    if plot:\n",
    "        print(sorted(c_1.values())[-100:])\n",
    "        plt.plot(np.log(list(sorted(c_1.values()))))\n",
    "        plt.show()\n",
    "        plt.plot(np.log(list(sorted(set(c_1.values())))))\n",
    "        plt.show()\n",
    "\n",
    "    p_2c = dict()\n",
    "    \n",
    "    for key in c_2.keys():\n",
    "        i, j = key\n",
    "\n",
    "        if c_1[i] == 0:\n",
    "            p_2c[key] = 0\n",
    "        else:\n",
    "            p_2c[key] = float(p_2[key]) / p_1[i]\n",
    "\n",
    "            \n",
    "    cond_entropy = 0\n",
    "\n",
    "    for key in c_2.keys():\n",
    "        if key in p_2c and p_2c[key] > 0:\n",
    "            cond_entropy -= p_2[key] * math.log2(p_2c[key])\n",
    "            \n",
    "    perplexity = 2 ** cond_entropy\n",
    "\n",
    "    return cond_entropy"
   ]
  },
  {
   "cell_type": "code",
   "execution_count": 174,
   "metadata": {
    "scrolled": false
   },
   "outputs": [
    {
     "data": {
      "text/plain": [
       "5.287460725971182"
      ]
     },
     "execution_count": 174,
     "metadata": {},
     "output_type": "execute_result"
    }
   ],
   "source": [
    "text_entropy(text_en)"
   ]
  },
  {
   "cell_type": "code",
   "execution_count": 175,
   "metadata": {},
   "outputs": [
    {
     "data": {
      "text/plain": [
       "1.6015427569244651"
      ]
     },
     "execution_count": 175,
     "metadata": {},
     "output_type": "execute_result"
    }
   ],
   "source": [
    "text_entropy(perturb(text_en, 1))"
   ]
  },
  {
   "cell_type": "code",
   "execution_count": 176,
   "metadata": {
    "scrolled": true
   },
   "outputs": [
    {
     "data": {
      "image/png": "[encoded data removed]",
      "text/plain": [
       "<Figure size 432x288 with 1 Axes>"
      ]
     },
     "metadata": {
      "needs_background": "light"
     },
     "output_type": "display_data"
    }
   ],
   "source": [
    "X = np.arange(0, 1.01, step=0.2)\n",
    "ents = [text_entropy(perturb(text_en, e)) for e in X]\n",
    "plt.plot(X, ents)\n",
    "plt.show()"
   ]
  },
  {
   "cell_type": "markdown",
   "metadata": {},
   "source": [
    "# Conditional entropy"
   ]
  },
  {
   "cell_type": "code",
   "execution_count": 179,
   "metadata": {},
   "outputs": [],
   "source": [
    "def min_avg_max(items):\n",
    "    return min(items), np.mean(items).item(), max(items)"
   ]
  },
  {
   "cell_type": "code",
   "execution_count": 177,
   "metadata": {},
   "outputs": [
    {
     "name": "stdout",
     "output_type": "stream",
     "text": [
      "4.723077029182792 4.73114646795427 4.7368218532462185\n"
     ]
    }
   ],
   "source": [
    "random.seed(1)\n",
    "\n",
    "ents = [text_entropy(perturb(text_en, 0.1)) for _ in range(10)]\n",
    "print(min_max_avg(ents))"
   ]
  },
  {
   "cell_type": "code",
   "execution_count": 211,
   "metadata": {},
   "outputs": [],
   "source": [
    "random.seed(1)\n",
    "\n",
    "data = []\n",
    "p_values = [0.1, 0.05, 0.01, 0.001, 0.0001, 0.00001]\n",
    "\n",
    "for p in p_values:\n",
    "    ents = [text_entropy(perturb(text_en, p)) for _ in range(10)]\n",
    "    \n",
    "    data.append(min_avg_max(ents))\n",
    "    \n",
    "data = np.array(data)"
   ]
  },
  {
   "cell_type": "code",
   "execution_count": 217,
   "metadata": {},
   "outputs": [
    {
     "data": {
      "text/plain": [
       "<matplotlib.legend.Legend at 0x7f4f70a0ff28>"
      ]
     },
     "execution_count": 217,
     "metadata": {},
     "output_type": "execute_result"
    },
    {
     "data": {
      "image/png": "[encoded data removed]",
      "text/plain": [
       "<Figure size 432x288 with 1 Axes>"
      ]
     },
     "metadata": {
      "needs_background": "light"
     },
     "output_type": "display_data"
    }
   ],
   "source": [
    "for i, label in enumerate([\"min\", \"avg\", \"max\"]):\n",
    "    plt.plot(p_values, data[:, i], label=label)\n",
    "    \n",
    "plt.legend()"
   ]
  },
  {
   "cell_type": "code",
   "execution_count": null,
   "metadata": {},
   "outputs": [],
   "source": []
  },
  {
   "cell_type": "code",
   "execution_count": null,
   "metadata": {},
   "outputs": [],
   "source": []
  },
  {
   "cell_type": "code",
   "execution_count": null,
   "metadata": {},
   "outputs": [],
   "source": []
  },
  {
   "cell_type": "code",
   "execution_count": null,
   "metadata": {},
   "outputs": [],
   "source": []
  },
  {
   "cell_type": "code",
   "execution_count": null,
   "metadata": {},
   "outputs": [],
   "source": []
  }
 ],
 "metadata": {
  "kernelspec": {
   "display_name": "Python 3",
   "language": "python",
   "name": "python3"
  },
  "language_info": {
   "codemirror_mode": {
    "name": "ipython",
    "version": 3
   },
   "file_extension": ".py",
   "mimetype": "text/x-python",
   "name": "python",
   "nbconvert_exporter": "python",
   "pygments_lexer": "ipython3",
   "version": "3.7.2"
  }
 },
 "nbformat": 4,
 "nbformat_minor": 2
}
