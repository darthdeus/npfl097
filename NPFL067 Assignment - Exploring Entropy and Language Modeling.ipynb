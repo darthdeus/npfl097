{
 "cells": [
  {
   "cell_type": "code",
   "execution_count": 170,
   "metadata": {},
   "outputs": [],
   "source": [
    "import math\n",
    "import random\n",
    "import matplotlib.pyplot as plt\n",
    "%matplotlib inline\n",
    "\n",
    "from collections import defaultdict\n",
    "from glob import glob"
   ]
  },
  {
   "cell_type": "code",
   "execution_count": 92,
   "metadata": {},
   "outputs": [
    {
     "data": {
      "text/plain": [
       "['data/TEXTEN1.txt',\n",
       " 'data/eng-input.txt',\n",
       " 'data/dictionary.txt',\n",
       " 'data/test_data.tsv',\n",
       " 'data/training_data.tsv',\n",
       " 'data/TEXTCZ1.txt']"
      ]
     },
     "execution_count": 92,
     "metadata": {},
     "output_type": "execute_result"
    }
   ],
   "source": [
    "glob(\"data/*\")"
   ]
  },
  {
   "cell_type": "code",
   "execution_count": 93,
   "metadata": {},
   "outputs": [],
   "source": [
    "with open(\"data/TEXTEN1.txt\", \"r\") as f:\n",
    "    text_en = f.read()\n",
    "\n",
    "with open(\"data/TEXTCZ1.txt\", \"r\", encoding=\"iso8859_2\") as f:\n",
    "    text_cz = f.read()"
   ]
  },
  {
   "cell_type": "code",
   "execution_count": 140,
   "metadata": {},
   "outputs": [
    {
     "data": {
      "text/plain": [
       "9"
      ]
     },
     "execution_count": 140,
     "metadata": {},
     "output_type": "execute_result"
    }
   ],
   "source": [
    "s = \"haf haf nuf haf olaf haf nuf olaf olaf haf\".split(\" \")\n",
    "len(list(zip(s, s[1:])))"
   ]
  },
  {
   "cell_type": "code",
   "execution_count": 122,
   "metadata": {},
   "outputs": [],
   "source": [
    "from collections import Counter"
   ]
  },
  {
   "cell_type": "code",
   "execution_count": 139,
   "metadata": {},
   "outputs": [
    {
     "data": {
      "text/plain": [
       "10"
      ]
     },
     "execution_count": 139,
     "metadata": {},
     "output_type": "execute_result"
    }
   ],
   "source": [
    "sum(dict(Counter(s)).values())"
   ]
  },
  {
   "cell_type": "code",
   "execution_count": 335,
   "metadata": {},
   "outputs": [],
   "source": [
    "def text_entropy(text, plot=False):\n",
    "    words = text.split(\"\\n\")\n",
    "    \n",
    "    c_1 = Counter(words)\n",
    "    c_2 = Counter(zip(words, words[1:]))\n",
    "    c_3 = Counter(zip(words, words[1:], words[2:]))\n",
    "    \n",
    "    total_c1 = sum(c_1.values())\n",
    "    total_c2 = sum(c_1.values())\n",
    "    \n",
    "    p_1 = {word: float(count) / total_c1 for word, count in c_1.items()}\n",
    "    p_2 = {word: float(count) / total_c2 for word, count in c_2.items()}\n",
    "    \n",
    "    if plot:\n",
    "        print(sorted(c_1.values())[-100:])\n",
    "        plt.plot(np.log(list(sorted(c_1.values()))))\n",
    "        plt.show()\n",
    "        plt.plot(np.log(list(sorted(set(c_1.values())))))\n",
    "        plt.show()\n",
    "\n",
    "    p_2c = dict()\n",
    "    \n",
    "    for key in c_2.keys():\n",
    "        i, j = key\n",
    "\n",
    "        if c_1[i] == 0:\n",
    "            p_2c[key] = 0\n",
    "        else:\n",
    "            p_2c[key] = float(p_2[key]) / p_1[i]\n",
    "\n",
    "            \n",
    "    cond_entropy = 0\n",
    "\n",
    "    for key in c_2.keys():\n",
    "        if key in p_2c:\n",
    "            cond_entropy -= p_2[key] * math.log2(p_2c[key])\n",
    "\n",
    "    cond_entropy = -sum([p_1[key] * math.log2(p_1[key]) for key in p_1.keys()])\n",
    "            \n",
    "    perplexity = 2 ** cond_entropy\n",
    "\n",
    "    return cond_entropy, perplexity\n",
    "\n",
    "def perturb(text, p):\n",
    "    alphabet = list(set(text_en) - set([\"\\n\"]))\n",
    "    \n",
    "    return \"\".join([c\n",
    "                    if (random.random() > p or c == \"\\n\")\n",
    "                    else random.choice(alphabet)\n",
    "                    for c in text])"
   ]
  },
  {
   "cell_type": "code",
   "execution_count": 342,
   "metadata": {},
   "outputs": [
    {
     "data": {
      "text/plain": [
       "('WHEN on board H . M . S . Beagle as natu',\n",
       " 'Rb\"Y xD RlJvY r ) ; ) F p jq;(u2 ke S\\'!p')"
      ]
     },
     "execution_count": 342,
     "metadata": {},
     "output_type": "execute_result"
    }
   ],
   "source": [
    "text_en[:40].replace(\"\\n\", \" \"), perturb(text_en[:40], 1).replace(\"\\n\", \" \")"
   ]
  },
  {
   "cell_type": "code",
   "execution_count": 338,
   "metadata": {
    "scrolled": false
   },
   "outputs": [
    {
     "data": {
      "text/plain": [
       "(9.037462243886768, 525.4691453588567)"
      ]
     },
     "execution_count": 338,
     "metadata": {},
     "output_type": "execute_result"
    }
   ],
   "source": [
    "text_entropy(text_en)"
   ]
  },
  {
   "cell_type": "code",
   "execution_count": 339,
   "metadata": {},
   "outputs": [
    {
     "data": {
      "text/plain": [
       "(16.150326287502523, 72733.19278303355)"
      ]
     },
     "execution_count": 339,
     "metadata": {},
     "output_type": "execute_result"
    }
   ],
   "source": [
    "text_entropy(perturb(text_en, 1))"
   ]
  },
  {
   "cell_type": "code",
   "execution_count": 340,
   "metadata": {
    "scrolled": true
   },
   "outputs": [],
   "source": [
    "ents = [text_entropy(perturb(text_en, e)) for e in np.arange(0, 1, step=0.05)]"
   ]
  },
  {
   "cell_type": "code",
   "execution_count": 341,
   "metadata": {},
   "outputs": [
    {
     "data": {
      "text/plain": [
       "[<matplotlib.lines.Line2D at 0x7f9587fa4518>]"
      ]
     },
     "execution_count": 341,
     "metadata": {},
     "output_type": "execute_result"
    },
    {
     "data": {
      "image/png": "[encoded data removed]",
      "text/plain": [
       "<Figure size 432x288 with 1 Axes>"
      ]
     },
     "metadata": {
      "needs_background": "light"
     },
     "output_type": "display_data"
    }
   ],
   "source": [
    "plt.plot(np.arange(0, 1, step=0.05), [a for a, b in ents])"
   ]
  },
  {
   "cell_type": "code",
   "execution_count": 343,
   "metadata": {},
   "outputs": [
    {
     "data": {
      "text/plain": [
       "(-0.0, 1.0)"
      ]
     },
     "execution_count": 343,
     "metadata": {},
     "output_type": "execute_result"
    }
   ],
   "source": [
    "text_entropy(\"nuf nuf nuf nuf nuf\".replace(\" \", \"\\n\"))"
   ]
  },
  {
   "cell_type": "code",
   "execution_count": 347,
   "metadata": {},
   "outputs": [
    {
     "data": {
      "text/plain": [
       "(2.0, 4.0)"
      ]
     },
     "execution_count": 347,
     "metadata": {},
     "output_type": "execute_result"
    }
   ],
   "source": [
    "text_entropy(\"a b c d\".replace(\" \", \"\\n\"))"
   ]
  },
  {
   "cell_type": "code",
   "execution_count": 292,
   "metadata": {},
   "outputs": [],
   "source": [
    "s = perturb(text_en, 1)"
   ]
  },
  {
   "cell_type": "code",
   "execution_count": null,
   "metadata": {},
   "outputs": [],
   "source": []
  },
  {
   "cell_type": "code",
   "execution_count": 285,
   "metadata": {},
   "outputs": [],
   "source": [
    "c = Counter(perturb(text_en, 1).split(\"\\n\"))"
   ]
  },
  {
   "cell_type": "code",
   "execution_count": 286,
   "metadata": {
    "scrolled": false
   },
   "outputs": [
    {
     "data": {
      "text/plain": [
       "[('C', 419),\n",
       " ('m', 416),\n",
       " ('!', 413),\n",
       " ('k', 409),\n",
       " ('K', 407),\n",
       " ('.', 406),\n",
       " ('e', 405),\n",
       " ('s', 401),\n",
       " ('v', 401),\n",
       " ('w', 400),\n",
       " ('x', 400),\n",
       " (')', 400),\n",
       " ('M', 398),\n",
       " ('Q', 398),\n",
       " ('7', 396),\n",
       " (':', 396),\n",
       " ('2', 395),\n",
       " ('&', 394),\n",
       " ('d', 393),\n",
       " (\"'\", 392),\n",
       " ('p', 392),\n",
       " ('(', 389),\n",
       " ('t', 389),\n",
       " ('z', 388),\n",
       " ('\"', 388),\n",
       " ('Z', 387),\n",
       " ('T', 387),\n",
       " ('F', 386),\n",
       " ('B', 386),\n",
       " ('N', 386),\n",
       " ('q', 386),\n",
       " ('V', 385),\n",
       " (';', 384),\n",
       " ('P', 384),\n",
       " ('H', 384),\n",
       " ('1', 384),\n",
       " ('c', 384),\n",
       " ('E', 382),\n",
       " ('G', 380),\n",
       " ('0', 380),\n",
       " ('h', 379),\n",
       " ('i', 377),\n",
       " ('a', 376),\n",
       " ('9', 376),\n",
       " ('l', 375),\n",
       " ('J', 374),\n",
       " ('X', 374),\n",
       " ('R', 374),\n",
       " ('r', 374),\n",
       " ('A', 374),\n",
       " ('6', 374),\n",
       " ('f', 374),\n",
       " ('/', 373),\n",
       " ('j', 371),\n",
       " (',', 371),\n",
       " ('?', 371),\n",
       " ('8', 369),\n",
       " ('4', 369),\n",
       " ('Y', 368),\n",
       " ('L', 366),\n",
       " ('U', 365),\n",
       " ('o', 363),\n",
       " ('W', 360),\n",
       " ('5', 360),\n",
       " ('I', 358),\n",
       " ('b', 357),\n",
       " ('S', 357),\n",
       " ('g', 356),\n",
       " ('y', 356),\n",
       " ('u', 356),\n",
       " ('n', 353),\n",
       " ('3', 351),\n",
       " ('D', 347),\n",
       " ('O', 347),\n",
       " ('yk', 18),\n",
       " ('Pp', 17),\n",
       " ('9X', 17),\n",
       " ('T\"', 17),\n",
       " ('d&', 16),\n",
       " ('40', 16),\n",
       " ('cg', 16),\n",
       " ('DA', 16),\n",
       " ('l0', 16),\n",
       " (\"'/\", 16),\n",
       " ('hJ', 16),\n",
       " (\"'e\", 16),\n",
       " ('Fo', 16),\n",
       " ('?5', 15),\n",
       " ('fR', 15),\n",
       " ('F)', 15),\n",
       " ('3:', 15),\n",
       " ('Nn', 15),\n",
       " ('FX', 15),\n",
       " ('Vi', 15),\n",
       " ('B;', 15),\n",
       " ('nY', 14),\n",
       " ('A8', 14),\n",
       " ('fV', 14),\n",
       " ('nC', 14),\n",
       " ('TB', 14)]"
      ]
     },
     "execution_count": 286,
     "metadata": {},
     "output_type": "execute_result"
    }
   ],
   "source": [
    "sorted(c.items(), key=lambda x: x[1], reverse=True)[:100]"
   ]
  },
  {
   "cell_type": "code",
   "execution_count": null,
   "metadata": {},
   "outputs": [],
   "source": []
  },
  {
   "cell_type": "code",
   "execution_count": null,
   "metadata": {},
   "outputs": [],
   "source": []
  },
  {
   "cell_type": "code",
   "execution_count": null,
   "metadata": {},
   "outputs": [],
   "source": []
  },
  {
   "cell_type": "code",
   "execution_count": null,
   "metadata": {},
   "outputs": [],
   "source": []
  }
 ],
 "metadata": {
  "kernelspec": {
   "display_name": "Python 3",
   "language": "python",
   "name": "python3"
  },
  "language_info": {
   "codemirror_mode": {
    "name": "ipython",
    "version": 3
   },
   "file_extension": ".py",
   "mimetype": "text/x-python",
   "name": "python",
   "nbconvert_exporter": "python",
   "pygments_lexer": "ipython3",
   "version": "3.6.7"
  }
 },
 "nbformat": 4,
 "nbformat_minor": 2
}
