{
 "cells": [
  {
   "cell_type": "code",
   "execution_count": 91,
   "metadata": {},
   "outputs": [],
   "source": [
    "import math\n",
    "import random\n",
    "\n",
    "from collections import defaultdict\n",
    "from glob import glob"
   ]
  },
  {
   "cell_type": "code",
   "execution_count": 92,
   "metadata": {},
   "outputs": [
    {
     "data": {
      "text/plain": [
       "['data/TEXTEN1.txt',\n",
       " 'data/eng-input.txt',\n",
       " 'data/dictionary.txt',\n",
       " 'data/test_data.tsv',\n",
       " 'data/training_data.tsv',\n",
       " 'data/TEXTCZ1.txt']"
      ]
     },
     "execution_count": 92,
     "metadata": {},
     "output_type": "execute_result"
    }
   ],
   "source": [
    "glob(\"data/*\")"
   ]
  },
  {
   "cell_type": "code",
   "execution_count": 93,
   "metadata": {},
   "outputs": [],
   "source": [
    "with open(\"data/TEXTEN1.txt\", \"r\") as f:\n",
    "    text_en = f.read()\n",
    "\n",
    "with open(\"data/TEXTCZ1.txt\", \"r\", encoding=\"iso8859_2\") as f:\n",
    "    text_cz = f.read()"
   ]
  },
  {
   "cell_type": "code",
   "execution_count": 140,
   "metadata": {},
   "outputs": [
    {
     "data": {
      "text/plain": [
       "9"
      ]
     },
     "execution_count": 140,
     "metadata": {},
     "output_type": "execute_result"
    }
   ],
   "source": [
    "s = \"haf haf nuf haf olaf haf nuf olaf olaf haf\".split(\" \")\n",
    "len(list(zip(s, s[1:])))"
   ]
  },
  {
   "cell_type": "code",
   "execution_count": 122,
   "metadata": {},
   "outputs": [],
   "source": [
    "from collections import Counter"
   ]
  },
  {
   "cell_type": "code",
   "execution_count": 139,
   "metadata": {},
   "outputs": [
    {
     "data": {
      "text/plain": [
       "10"
      ]
     },
     "execution_count": 139,
     "metadata": {},
     "output_type": "execute_result"
    }
   ],
   "source": [
    "sum(dict(Counter(s)).values())"
   ]
  },
  {
   "cell_type": "code",
   "execution_count": 150,
   "metadata": {},
   "outputs": [],
   "source": [
    "def text_entropy(text):\n",
    "    words = text.split(\"\\n\")\n",
    "    \n",
    "    c_1 = Counter(words)\n",
    "    c_2 = Counter(zip(words, words[1:]))\n",
    "    c_3 = Counter(zip(words, words[1:], words[2:]))\n",
    "    \n",
    "    total_c1 = sum(c_1.values())\n",
    "    total_c2 = sum(c_2.values())\n",
    "    \n",
    "    p_1 = {word: float(count) / total_c1 for word, count in c_1.items()}\n",
    "    p_2 = {word: float(count) / total_c2 for word, count in c_2.items()}\n",
    "    \n",
    "    p_2c = dict()\n",
    "    \n",
    "    for key in c_2.keys():\n",
    "        i, j = key\n",
    "\n",
    "        if c_1[i] == 0:\n",
    "            p_2c[key] = 0\n",
    "        else:\n",
    "            p_2c[key] = float(p_2[key]) / p_1[i]\n",
    "\n",
    "            \n",
    "    cond_entropy = 0\n",
    "\n",
    "    for key in c_2.keys():\n",
    "        if key in p_2c:\n",
    "            cond_entropy -= p_2[key] * math.log2(p_2c[key])\n",
    "\n",
    "    perplexity = 2 ** cond_entropy\n",
    "\n",
    "    return cond_entropy, perplexity\n",
    "\n",
    "def perturb(text, p):\n",
    "    alphabet = list(set(text_en))\n",
    "    \n",
    "    return \"\".join([c\n",
    "                    if random.random() > p\n",
    "                    else random.choice(alphabet)\n",
    "                    for c in text])"
   ]
  },
  {
   "cell_type": "code",
   "execution_count": 165,
   "metadata": {},
   "outputs": [
    {
     "data": {
      "text/plain": [
       "'WHEN on board H . M . S . Beagle as natu'"
      ]
     },
     "execution_count": 165,
     "metadata": {},
     "output_type": "execute_result"
    }
   ],
   "source": [
    "text_en[:40].replace(\"\\n\", \" \")"
   ]
  },
  {
   "cell_type": "code",
   "execution_count": 166,
   "metadata": {},
   "outputs": [
    {
     "data": {
      "text/plain": [
       "'9HEN on board H . M B S . Beagle as natI'"
      ]
     },
     "execution_count": 166,
     "metadata": {},
     "output_type": "execute_result"
    }
   ],
   "source": [
    "perturb(text_en[:40], 0.1).replace(\"\\n\", \" \")"
   ]
  },
  {
   "cell_type": "code",
   "execution_count": 167,
   "metadata": {},
   "outputs": [
    {
     "data": {
      "text/plain": [
       "(5.287478115404296, 39.056157564497)"
      ]
     },
     "execution_count": 167,
     "metadata": {},
     "output_type": "execute_result"
    }
   ],
   "source": [
    "text_entropy(text_en)"
   ]
  },
  {
   "cell_type": "code",
   "execution_count": 169,
   "metadata": {},
   "outputs": [
    {
     "data": {
      "text/plain": [
       "(0.286171646080999, 1.2194001647966342)"
      ]
     },
     "execution_count": 169,
     "metadata": {},
     "output_type": "execute_result"
    }
   ],
   "source": [
    "text_entropy(perturb(text_en, 0.9))"
   ]
  },
  {
   "cell_type": "code",
   "execution_count": null,
   "metadata": {},
   "outputs": [],
   "source": []
  },
  {
   "cell_type": "code",
   "execution_count": null,
   "metadata": {},
   "outputs": [],
   "source": []
  }
 ],
 "metadata": {
  "kernelspec": {
   "display_name": "Python 3",
   "language": "python",
   "name": "python3"
  },
  "language_info": {
   "codemirror_mode": {
    "name": "ipython",
    "version": 3
   },
   "file_extension": ".py",
   "mimetype": "text/x-python",
   "name": "python",
   "nbconvert_exporter": "python",
   "pygments_lexer": "ipython3",
   "version": "3.6.7"
  }
 },
 "nbformat": 4,
 "nbformat_minor": 2
}
