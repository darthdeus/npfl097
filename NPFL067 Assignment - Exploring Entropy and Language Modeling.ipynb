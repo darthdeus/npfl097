{
 "cells": [
  {
   "cell_type": "code",
   "execution_count": 1,
   "metadata": {},
   "outputs": [],
   "source": [
    "import math\n",
    "import random\n",
    "import matplotlib.pyplot as plt\n",
    "%matplotlib inline\n",
    "\n",
    "from collections import defaultdict\n",
    "from glob import glob"
   ]
  },
  {
   "cell_type": "code",
   "execution_count": 2,
   "metadata": {},
   "outputs": [
    {
     "data": {
      "text/plain": [
       "['data/TEXTEN1.txt',\n",
       " 'data/eng-input.txt',\n",
       " 'data/dictionary.txt',\n",
       " 'data/test_data.tsv',\n",
       " 'data/training_data.tsv',\n",
       " 'data/TEXTCZ1.txt']"
      ]
     },
     "execution_count": 2,
     "metadata": {},
     "output_type": "execute_result"
    }
   ],
   "source": [
    "glob(\"data/*\")"
   ]
  },
  {
   "cell_type": "code",
   "execution_count": 3,
   "metadata": {},
   "outputs": [],
   "source": [
    "with open(\"data/TEXTEN1.txt\", \"r\") as f:\n",
    "    text_en = f.read()\n",
    "\n",
    "with open(\"data/TEXTCZ1.txt\", \"r\", encoding=\"iso8859_2\") as f:\n",
    "    text_cz = f.read()"
   ]
  },
  {
   "cell_type": "code",
   "execution_count": 4,
   "metadata": {},
   "outputs": [
    {
     "data": {
      "text/plain": [
       "9"
      ]
     },
     "execution_count": 4,
     "metadata": {},
     "output_type": "execute_result"
    }
   ],
   "source": [
    "s = \"haf haf nuf haf olaf haf nuf olaf olaf haf\".split(\" \")\n",
    "len(list(zip(s, s[1:])))"
   ]
  },
  {
   "cell_type": "code",
   "execution_count": 5,
   "metadata": {},
   "outputs": [],
   "source": [
    "from collections import Counter"
   ]
  },
  {
   "cell_type": "code",
   "execution_count": 6,
   "metadata": {},
   "outputs": [
    {
     "data": {
      "text/plain": [
       "10"
      ]
     },
     "execution_count": 6,
     "metadata": {},
     "output_type": "execute_result"
    }
   ],
   "source": [
    "sum(dict(Counter(s)).values())"
   ]
  },
  {
   "cell_type": "code",
   "execution_count": 29,
   "metadata": {},
   "outputs": [],
   "source": [
    "def perturb(text, p):\n",
    "    alphabet = list(set(text_en) - set([\"\\n\"]))\n",
    "    \n",
    "    return \"\".join([c\n",
    "                    if (random.random() > p or c == \"\\n\")\n",
    "                    else random.choice(alphabet)\n",
    "                    for c in text])"
   ]
  },
  {
   "cell_type": "code",
   "execution_count": 30,
   "metadata": {},
   "outputs": [
    {
     "data": {
      "text/plain": [
       "('WHEN on board H . M . S . Beagle as natu',\n",
       " 'KwN5 R, ptZew u d K D k H BWrrHB 4K j)Yl')"
      ]
     },
     "execution_count": 30,
     "metadata": {},
     "output_type": "execute_result"
    }
   ],
   "source": [
    "text_en[:40].replace(\"\\n\", \" \"), perturb(text_en[:40], 1).replace(\"\\n\", \" \")"
   ]
  },
  {
   "cell_type": "code",
   "execution_count": null,
   "metadata": {},
   "outputs": [],
   "source": []
  },
  {
   "cell_type": "code",
   "execution_count": 31,
   "metadata": {},
   "outputs": [],
   "source": [
    "def text_entropy(text, plot=False):\n",
    "    words = text.split(\"\\n\")\n",
    "    \n",
    "    c_1 = Counter(words)\n",
    "    c_2 = Counter(zip(words, words[1:]))\n",
    "    c_3 = Counter(zip(words, words[1:], words[2:]))\n",
    "    \n",
    "    total_c1 = sum(c_1.values())\n",
    "    total_c2 = sum(c_1.values())\n",
    "    \n",
    "    p_1 = {word: float(count) / total_c1 for word, count in c_1.items()}\n",
    "    p_2 = {word: float(count) / total_c2 for word, count in c_2.items()}\n",
    "    \n",
    "    if plot:\n",
    "        print(sorted(c_1.values())[-100:])\n",
    "        plt.plot(np.log(list(sorted(c_1.values()))))\n",
    "        plt.show()\n",
    "        plt.plot(np.log(list(sorted(set(c_1.values())))))\n",
    "        plt.show()\n",
    "\n",
    "    p_2c = dict()\n",
    "    \n",
    "    for key in c_2.keys():\n",
    "        i, j = key\n",
    "\n",
    "        if c_1[i] == 0:\n",
    "            p_2c[key] = 0\n",
    "        else:\n",
    "            p_2c[key] = float(p_2[key]) / p_1[i]\n",
    "\n",
    "            \n",
    "    cond_entropy = 0\n",
    "\n",
    "    for key in c_2.keys():\n",
    "        if key in p_2c:\n",
    "            cond_entropy -= p_2[key] * math.log2(p_2c[key])\n",
    "\n",
    "#     cond_entropy = -sum([p_1[key] * math.log2(p_1[key]) for key in p_1.keys()])\n",
    "            \n",
    "    perplexity = 2 ** cond_entropy\n",
    "\n",
    "    return cond_entropy, perplexity"
   ]
  },
  {
   "cell_type": "code",
   "execution_count": 32,
   "metadata": {
    "scrolled": false
   },
   "outputs": [
    {
     "data": {
      "text/plain": [
       "(5.287460725971182, 39.055686806417654)"
      ]
     },
     "execution_count": 32,
     "metadata": {},
     "output_type": "execute_result"
    }
   ],
   "source": [
    "text_entropy(text_en)"
   ]
  },
  {
   "cell_type": "code",
   "execution_count": 33,
   "metadata": {},
   "outputs": [
    {
     "data": {
      "text/plain": [
       "(1.600694391811237, 3.032892560655091)"
      ]
     },
     "execution_count": 33,
     "metadata": {},
     "output_type": "execute_result"
    }
   ],
   "source": [
    "text_entropy(perturb(text_en, 1))"
   ]
  },
  {
   "cell_type": "code",
   "execution_count": 34,
   "metadata": {
    "scrolled": true
   },
   "outputs": [
    {
     "data": {
      "text/plain": [
       "[<matplotlib.lines.Line2D at 0x7fc924021dd8>]"
      ]
     },
     "execution_count": 34,
     "metadata": {},
     "output_type": "execute_result"
    },
    {
     "data": {
      "image/png": "[encoded data removed]",
      "text/plain": [
       "<Figure size 432x288 with 1 Axes>"
      ]
     },
     "metadata": {
      "needs_background": "light"
     },
     "output_type": "display_data"
    }
   ],
   "source": [
    "X = np.arange(0, 1, step=0.2)\n",
    "ents = [text_entropy(perturb(text_en, e)) for e in X]\n",
    "plt.plot(X, [a for a, b in ents])"
   ]
  },
  {
   "cell_type": "code",
   "execution_count": 27,
   "metadata": {},
   "outputs": [
    {
     "data": {
      "text/plain": [
       "(-0.0, 1.0)"
      ]
     },
     "execution_count": 27,
     "metadata": {},
     "output_type": "execute_result"
    }
   ],
   "source": [
    "text_entropy(\"he he he he\".replace(\" \", \"\\n\"))"
   ]
  },
  {
   "cell_type": "code",
   "execution_count": 28,
   "metadata": {},
   "outputs": [
    {
     "data": {
      "text/plain": [
       "(2.0, 4.0)"
      ]
     },
     "execution_count": 28,
     "metadata": {},
     "output_type": "execute_result"
    }
   ],
   "source": [
    "text_entropy(\"a b c d\".replace(\" \", \"\\n\"))"
   ]
  },
  {
   "cell_type": "code",
   "execution_count": 15,
   "metadata": {},
   "outputs": [],
   "source": [
    "s = perturb(text_en, 1)"
   ]
  },
  {
   "cell_type": "code",
   "execution_count": null,
   "metadata": {},
   "outputs": [],
   "source": []
  },
  {
   "cell_type": "code",
   "execution_count": 16,
   "metadata": {},
   "outputs": [],
   "source": [
    "c = Counter(perturb(text_en, 1).split(\"\\n\"))"
   ]
  },
  {
   "cell_type": "code",
   "execution_count": 17,
   "metadata": {
    "scrolled": false
   },
   "outputs": [
    {
     "data": {
      "text/plain": [
       "[('!', 447),\n",
       " ('G', 426),\n",
       " ('L', 420),\n",
       " ('s', 416),\n",
       " ('J', 413),\n",
       " ('C', 406),\n",
       " ('q', 405),\n",
       " (\"'\", 404),\n",
       " ('&', 401),\n",
       " ('H', 400),\n",
       " (';', 399),\n",
       " ('F', 397),\n",
       " ('c', 396),\n",
       " ('N', 393),\n",
       " ('v', 391),\n",
       " ('V', 391),\n",
       " ('n', 391),\n",
       " ('1', 391),\n",
       " ('?', 391),\n",
       " ('T', 389),\n",
       " ('g', 389),\n",
       " (')', 389),\n",
       " ('O', 389),\n",
       " ('u', 388),\n",
       " ('E', 388),\n",
       " ('2', 387),\n",
       " ('9', 386),\n",
       " ('7', 385),\n",
       " ('x', 384),\n",
       " ('X', 384),\n",
       " ('B', 384),\n",
       " ('I', 384),\n",
       " ('o', 383),\n",
       " ('.', 383),\n",
       " ('p', 383),\n",
       " ('8', 383),\n",
       " ('/', 382),\n",
       " ('m', 382),\n",
       " ('h', 382),\n",
       " ('P', 380),\n",
       " ('j', 380),\n",
       " (',', 380),\n",
       " ('U', 379),\n",
       " ('f', 379),\n",
       " ('d', 378),\n",
       " ('5', 378),\n",
       " ('l', 377),\n",
       " ('Q', 375),\n",
       " ('Y', 374),\n",
       " ('a', 373),\n",
       " ('W', 372),\n",
       " ('D', 372),\n",
       " (':', 371),\n",
       " ('k', 369),\n",
       " ('i', 368),\n",
       " ('y', 368),\n",
       " ('Z', 366),\n",
       " ('M', 365),\n",
       " ('K', 365),\n",
       " ('3', 364),\n",
       " ('A', 364),\n",
       " ('r', 363),\n",
       " ('4', 363),\n",
       " ('6', 363),\n",
       " ('e', 360),\n",
       " ('w', 360),\n",
       " ('(', 358),\n",
       " ('b', 356),\n",
       " ('\"', 355),\n",
       " ('0', 354),\n",
       " ('z', 353),\n",
       " ('t', 352),\n",
       " ('R', 349),\n",
       " ('S', 330),\n",
       " ('du', 21),\n",
       " ('eI', 21),\n",
       " ('7P', 18),\n",
       " ('C2', 17),\n",
       " ('jB', 17),\n",
       " ('Ep', 17),\n",
       " ('ph', 16),\n",
       " ('G8', 16),\n",
       " ('g)', 16),\n",
       " ('Mb', 16),\n",
       " ('!N', 16),\n",
       " ('Dh', 16),\n",
       " ('Dg', 16),\n",
       " ('3u', 15),\n",
       " ('NM', 15),\n",
       " (';g', 15),\n",
       " ('\"&', 15),\n",
       " ('kS', 15),\n",
       " ('Ch', 15),\n",
       " (\"4'\", 15),\n",
       " ('Y7', 15),\n",
       " ('Ui', 15),\n",
       " ('k.', 15),\n",
       " ('vF', 15),\n",
       " ('aV', 15),\n",
       " ('7g', 15)]"
      ]
     },
     "execution_count": 17,
     "metadata": {},
     "output_type": "execute_result"
    }
   ],
   "source": [
    "sorted(c.items(), key=lambda x: x[1], reverse=True)[:100]"
   ]
  },
  {
   "cell_type": "code",
   "execution_count": null,
   "metadata": {},
   "outputs": [],
   "source": []
  },
  {
   "cell_type": "code",
   "execution_count": null,
   "metadata": {},
   "outputs": [],
   "source": []
  },
  {
   "cell_type": "code",
   "execution_count": null,
   "metadata": {},
   "outputs": [],
   "source": []
  },
  {
   "cell_type": "code",
   "execution_count": null,
   "metadata": {},
   "outputs": [],
   "source": []
  }
 ],
 "metadata": {
  "kernelspec": {
   "display_name": "Python 3",
   "language": "python",
   "name": "python3"
  },
  "language_info": {
   "codemirror_mode": {
    "name": "ipython",
    "version": 3
   },
   "file_extension": ".py",
   "mimetype": "text/x-python",
   "name": "python",
   "nbconvert_exporter": "python",
   "pygments_lexer": "ipython3",
   "version": "3.6.7"
  }
 },
 "nbformat": 4,
 "nbformat_minor": 2
}
