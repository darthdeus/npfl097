{
 "cells": [
  {
   "cell_type": "code",
   "execution_count": 75,
   "metadata": {},
   "outputs": [],
   "source": [
    "import numpy as np\n",
    "import scipy\n",
    "import scipy.stats\n",
    "\n",
    "from scipy.optimize import minimize\n",
    "import matplotlib.pyplot as plt\n",
    "import pandas as pd\n",
    "%matplotlib inline\n",
    "\n",
    "from glob import glob\n",
    "\n",
    "import seaborn as sns"
   ]
  },
  {
   "cell_type": "code",
   "execution_count": 2,
   "metadata": {},
   "outputs": [
    {
     "data": {
      "text/plain": [
       "['data\\\\dictionary.txt', 'data\\\\test_data.tsv', 'data\\\\training_data.tsv']"
      ]
     },
     "execution_count": 2,
     "metadata": {},
     "output_type": "execute_result"
    }
   ],
   "source": [
    "glob(\"data/*\")"
   ]
  },
  {
   "cell_type": "code",
   "execution_count": 14,
   "metadata": {},
   "outputs": [],
   "source": [
    "train = pd.read_csv(\"data/training_data.tsv\", delimiter=\"\\t\", header=None, names=[\"document_id\", \"word_id\", \"count\"])\n",
    "test = pd.read_csv(\"data/test_data.tsv\", delimiter=\"\\t\", header=None, names=[\"document_id\", \"word_id\", \"count\"])\n",
    "dictionary = pd.read_csv(\"data/dictionary.txt\", header=None, names=[\"word\"]).values"
   ]
  },
  {
   "cell_type": "code",
   "execution_count": 27,
   "metadata": {},
   "outputs": [],
   "source": [
    "train = np.genfromtxt(\"data/training_data.tsv\", delimiter=\"\\t\", dtype=np.int32)\n",
    "dictionary = np.genfromtxt(\"data/dictionary.txt\", dtype=np.string_)"
   ]
  },
  {
   "cell_type": "code",
   "execution_count": 28,
   "metadata": {},
   "outputs": [
    {
     "data": {
      "text/plain": [
       "array([b'aarp', b'abandon', b'abandoned', ..., b'zogbys', b'zone',\n",
       "       b'zones'], dtype='|S40')"
      ]
     },
     "execution_count": 28,
     "metadata": {},
     "output_type": "execute_result"
    }
   ],
   "source": [
    "dictionary"
   ]
  },
  {
   "cell_type": "markdown",
   "metadata": {},
   "source": [
    "## Question 1.\n",
    "\n",
    "Using the training data, compute the maximum likelihood estimation over the words across\n",
    "the documents. Plot a histogram showing 20 most probable words."
   ]
  },
  {
   "cell_type": "code",
   "execution_count": 55,
   "metadata": {},
   "outputs": [],
   "source": [
    "counts = np.zeros_like(dictionary, np.int32)"
   ]
  },
  {
   "cell_type": "code",
   "execution_count": 60,
   "metadata": {},
   "outputs": [],
   "source": [
    "for document_id, word_id, count in train:\n",
    "    counts[word_id - 1] += count"
   ]
  },
  {
   "cell_type": "code",
   "execution_count": 61,
   "metadata": {},
   "outputs": [
    {
     "data": {
      "text/plain": [
       "b'bush'"
      ]
     },
     "execution_count": 61,
     "metadata": {},
     "output_type": "execute_result"
    }
   ],
   "source": [
    "dictionary[np.argmax(counts)]"
   ]
  },
  {
   "cell_type": "code",
   "execution_count": 62,
   "metadata": {},
   "outputs": [
    {
     "data": {
      "text/plain": [
       "3835"
      ]
     },
     "execution_count": 62,
     "metadata": {},
     "output_type": "execute_result"
    }
   ],
   "source": [
    "max(counts)"
   ]
  },
  {
   "cell_type": "code",
   "execution_count": 88,
   "metadata": {},
   "outputs": [],
   "source": [
    "max_counts = counts[np.argsort(counts)[-20:]]\n",
    "most_probable_words = dictionary[np.argsort(counts)[-20:]]"
   ]
  },
  {
   "cell_type": "code",
   "execution_count": 89,
   "metadata": {},
   "outputs": [
    {
     "data": {
      "text/plain": [
       "array([ 942,  947,  952,  961,  961,  961, 1057, 1062, 1100, 1263, 1276,\n",
       "       1355, 1358, 1364, 1479, 1495, 1591, 2288, 2633, 3835])"
      ]
     },
     "execution_count": 89,
     "metadata": {},
     "output_type": "execute_result"
    }
   ],
   "source": [
    "max_counts"
   ]
  },
  {
   "cell_type": "code",
   "execution_count": 91,
   "metadata": {},
   "outputs": [
    {
     "data": {
      "text/plain": [
       "[<matplotlib.lines.Line2D at 0x1c429986668>]"
      ]
     },
     "execution_count": 91,
     "metadata": {},
     "output_type": "execute_result"
    },
    {
     "data": {
      "image/png": "[encoded data removed]",
      "text/plain": [
       "<Figure size 432x288 with 1 Axes>"
      ]
     },
     "metadata": {},
     "output_type": "display_data"
    }
   ],
   "source": [
    "plt.xticks(rotation=90)\n",
    "plt.plot(most_probable_words, max_counts, \"x\")"
   ]
  },
  {
   "cell_type": "markdown",
   "metadata": {},
   "source": [
    "## Question 2.\n",
    "\n",
    "What is the log-probability of the test data if we use the MLE model from question 1)? Note\n",
    "that the test set contains words which are not contained in the training set. Explain"
   ]
  },
  {
   "cell_type": "code",
   "execution_count": null,
   "metadata": {},
   "outputs": [],
   "source": []
  },
  {
   "cell_type": "code",
   "execution_count": null,
   "metadata": {},
   "outputs": [],
   "source": []
  },
  {
   "cell_type": "code",
   "execution_count": null,
   "metadata": {},
   "outputs": [],
   "source": []
  },
  {
   "cell_type": "code",
   "execution_count": null,
   "metadata": {},
   "outputs": [],
   "source": []
  },
  {
   "cell_type": "code",
   "execution_count": 15,
   "metadata": {},
   "outputs": [
    {
     "ename": "ValueError",
     "evalue": "not enough values to unpack (expected 3, got 2)",
     "output_type": "error",
     "traceback": [
      "\u001b[1;31m---------------------------------------------------------------------------\u001b[0m",
      "\u001b[1;31mValueError\u001b[0m                                Traceback (most recent call last)",
      "\u001b[1;32m<ipython-input-15-8c8a80839a53>\u001b[0m in \u001b[0;36m<module>\u001b[1;34m()\u001b[0m\n\u001b[1;32m----> 1\u001b[1;33m \u001b[1;32mfor\u001b[0m \u001b[0mdocument_id\u001b[0m\u001b[1;33m,\u001b[0m \u001b[0mword_id\u001b[0m\u001b[1;33m,\u001b[0m \u001b[0mcount\u001b[0m \u001b[1;32min\u001b[0m \u001b[0mtrain\u001b[0m\u001b[1;33m.\u001b[0m\u001b[0miterrows\u001b[0m\u001b[1;33m(\u001b[0m\u001b[1;33m)\u001b[0m\u001b[1;33m:\u001b[0m\u001b[1;33m\u001b[0m\u001b[0m\n\u001b[0m\u001b[0;32m      2\u001b[0m     \u001b[0mcounts\u001b[0m\u001b[1;33m[\u001b[0m\u001b[0mword_id\u001b[0m\u001b[1;33m]\u001b[0m \u001b[1;33m+=\u001b[0m \u001b[0mcount\u001b[0m\u001b[1;33m\u001b[0m\u001b[0m\n",
      "\u001b[1;31mValueError\u001b[0m: not enough values to unpack (expected 3, got 2)"
     ]
    }
   ],
   "source": [
    "for document_id, word_id, count in train.iterrows():\n",
    "    counts[word_id] += count"
   ]
  },
  {
   "cell_type": "code",
   "execution_count": 287,
   "metadata": {},
   "outputs": [],
   "source": [
    "total = sum(train.num)\n",
    "grouped_train = train.drop(\"document_id\", axis=1).groupby(\"word_id\").sum()\n",
    "\n",
    "word_ids = np.array(grouped_train.index)\n",
    "word_probs = grouped_train.num.values / total"
   ]
  },
  {
   "cell_type": "code",
   "execution_count": 290,
   "metadata": {},
   "outputs": [
    {
     "data": {
      "text/plain": [
       "array([['timed'],\n",
       "       ['statebystate'],\n",
       "       ['republicans'],\n",
       "       ['voted'],\n",
       "       ['elections'],\n",
       "       ['peoples'],\n",
       "       ['presidential'],\n",
       "       ['demographic'],\n",
       "       ['campaigned'],\n",
       "       ['republicansforkerry'],\n",
       "       ['senategovernors'],\n",
       "       ['iraqi'],\n",
       "       ['ward'],\n",
       "       ['generally'],\n",
       "       ['democraticleaning'],\n",
       "       ['household'],\n",
       "       ['polled'],\n",
       "       ['npr'],\n",
       "       ['kerryedwards'],\n",
       "       ['bushcheney']], dtype=object)"
      ]
     },
     "execution_count": 290,
     "metadata": {},
     "output_type": "execute_result"
    }
   ],
   "source": [
    "dictionary[word_ids[np.argsort(word_probs)[-20:]]]"
   ]
  },
  {
   "cell_type": "code",
   "execution_count": null,
   "metadata": {},
   "outputs": [],
   "source": []
  },
  {
   "cell_type": "code",
   "execution_count": null,
   "metadata": {},
   "outputs": [],
   "source": []
  },
  {
   "cell_type": "code",
   "execution_count": null,
   "metadata": {},
   "outputs": [],
   "source": []
  },
  {
   "cell_type": "code",
   "execution_count": 32,
   "metadata": {},
   "outputs": [],
   "source": [
    "words = train.loc[train.document_id == 1].word_id.values"
   ]
  },
  {
   "cell_type": "code",
   "execution_count": 42,
   "metadata": {},
   "outputs": [],
   "source": [
    "doc = train.loc[train.document_id == 1]"
   ]
  },
  {
   "cell_type": "code",
   "execution_count": null,
   "metadata": {},
   "outputs": [],
   "source": []
  },
  {
   "cell_type": "code",
   "execution_count": 162,
   "metadata": {},
   "outputs": [],
   "source": [
    "word_ids = doc.word_id\n",
    "\n",
    "total = sum(doc.num.values)\n",
    "\n",
    "def unigram_prob(p):\n",
    "    return -scipy.stats.multinomial.pmf(doc.num.values, n=total, p=p)"
   ]
  },
  {
   "cell_type": "code",
   "execution_count": 152,
   "metadata": {},
   "outputs": [
    {
     "data": {
      "text/plain": [
       "183"
      ]
     },
     "execution_count": 152,
     "metadata": {},
     "output_type": "execute_result"
    }
   ],
   "source": [
    "len(doc.num.values)"
   ]
  },
  {
   "cell_type": "code",
   "execution_count": 170,
   "metadata": {},
   "outputs": [
    {
     "data": {
      "text/plain": [
       "      fun: -3.735112555180694e-88\n",
       " hess_inv: array([[1, 0, 0, ..., 0, 0, 0],\n",
       "       [0, 1, 0, ..., 0, 0, 0],\n",
       "       [0, 0, 1, ..., 0, 0, 0],\n",
       "       ...,\n",
       "       [0, 0, 0, ..., 1, 0, 0],\n",
       "       [0, 0, 0, ..., 0, 1, 0],\n",
       "       [0, 0, 0, ..., 0, 0, 1]])\n",
       "      jac: array([4.90141552e-91, 4.90141552e-91, 4.90141552e-91, 3.70455432e-91,\n",
       "       4.90141552e-91, 4.90141552e-91, 4.90141552e-91, 4.90141552e-91,\n",
       "       4.90141552e-91, 4.90141552e-91, 4.90141552e-91, 4.90141552e-91,\n",
       "       4.90141552e-91, 4.90141552e-91, 4.90141552e-91, 4.90141552e-91,\n",
       "       4.90141552e-91, 4.90141552e-91, 4.90141552e-91, 4.90141552e-91,\n",
       "       2.73567203e-91, 4.90141552e-91, 4.90141552e-91, 3.07765913e-91,\n",
       "       4.90141552e-91, 4.90141552e-91, 4.90141552e-91, 3.70455432e-91,\n",
       "       4.90141552e-91, 4.90141552e-91, 4.90141552e-91, 4.90141552e-91,\n",
       "       4.90141552e-91, 4.90141552e-91, 4.90141552e-91, 4.90141552e-91,\n",
       "       3.30560059e-91, 4.90141552e-91, 3.70455432e-91, 4.90141552e-91,\n",
       "       4.90141552e-91, 4.90141552e-91, 3.30560059e-91, 4.90141552e-91,\n",
       "       3.07765913e-91, 4.90141552e-91, 4.90141552e-91, 4.90141552e-91,\n",
       "       3.70455432e-91, 4.90141552e-91, 4.90141552e-91, 4.90141552e-91,\n",
       "       4.90141552e-91, 4.90141552e-91, 4.90141552e-91, 3.64758768e-91,\n",
       "       2.96365095e-91, 4.90141552e-91, 4.90141552e-91, 4.90141552e-91,\n",
       "       4.90141552e-91, 4.90141552e-91, 4.90141552e-91, 4.90141552e-91,\n",
       "       2.84968022e-91, 4.90141552e-91, 4.90141552e-91, 4.90141552e-91,\n",
       "       2.96365095e-91, 3.70455432e-91, 3.70455432e-91, 4.90141552e-91,\n",
       "       4.90141552e-91, 4.90141552e-91, 4.90141552e-91, 4.90141552e-91,\n",
       "       4.90141552e-91, 4.90141552e-91, 3.64758768e-91, 4.90141552e-91,\n",
       "       2.96365095e-91, 4.90141552e-91, 4.90141552e-91, 3.70455432e-91,\n",
       "       2.96365095e-91, 2.96365095e-91, 4.90141552e-91, 4.90141552e-91,\n",
       "       5.01542370e-91, 5.01542370e-91, 2.84968022e-91, 2.62170131e-91,\n",
       "       4.95841961e-91, 4.95841961e-91, 3.76155841e-91, 4.95841961e-91,\n",
       "       5.01542370e-91, 5.01542370e-91, 4.95841961e-91, 4.95841961e-91,\n",
       "       4.95841961e-91, 4.95841961e-91, 4.95841961e-91, 3.30560059e-91,\n",
       "       5.01542370e-91, 5.01542370e-91, 3.76155841e-91, 4.95841961e-91,\n",
       "       4.95841961e-91, 4.95841961e-91, 4.95841961e-91, 3.76155841e-91,\n",
       "       5.01542370e-91, 5.01542370e-91, 3.07765913e-91, 2.73567203e-91,\n",
       "       3.76155841e-91, 4.95841961e-91, 4.95841961e-91, 4.95841961e-91,\n",
       "       5.01542370e-91, 3.30560059e-91, 4.95841961e-91, 4.95841961e-91,\n",
       "       4.95841961e-91, 4.95841961e-91, 4.95841961e-91, 4.95841961e-91,\n",
       "       5.01542370e-91, 3.07765913e-91, 4.95841961e-91, 4.95841961e-91,\n",
       "       4.95841961e-91, 3.76155841e-91, 3.76155841e-91, 4.95841961e-91,\n",
       "       5.01542370e-91, 5.01542370e-91, 4.95841961e-91, 3.76155841e-91,\n",
       "       4.95841961e-91, 4.95841961e-91, 4.95841961e-91, 4.95841961e-91,\n",
       "       5.01542370e-91, 4.95841961e-91, 3.76155841e-91, 2.96365095e-91,\n",
       "       4.95841961e-91, 4.95841961e-91, 4.95841961e-91, 3.76155841e-91,\n",
       "       3.30560059e-91, 4.95841961e-91, 4.90141552e-91, 4.95841961e-91,\n",
       "       4.95841961e-91, 4.95841961e-91, 4.95841961e-91, 4.95841961e-91,\n",
       "       5.01542370e-91, 3.76155841e-91, 4.90141552e-91, 4.95841961e-91,\n",
       "       4.95841961e-91, 4.95841961e-91, 4.95841961e-91, 4.95841961e-91,\n",
       "       4.95841961e-91, 4.95841961e-91, 3.76155841e-91, 4.95841961e-91,\n",
       "       4.95841961e-91, 4.95841961e-91, 4.95841961e-91, 2.96365095e-91,\n",
       "       3.07765913e-91, 4.95841961e-91, 4.95841961e-91, 4.95841961e-91,\n",
       "       4.95841961e-91, 4.95841961e-91, 0.00000000e+00])\n",
       "  message: 'Optimization terminated successfully.'\n",
       "     nfev: 185\n",
       "      nit: 0\n",
       "     njev: 1\n",
       "   status: 0\n",
       "  success: True\n",
       "        x: array([0.0033557 , 0.0033557 , 0.0033557 , 0.00671141, 0.0033557 ,\n",
       "       0.0033557 , 0.0033557 , 0.0033557 , 0.0033557 , 0.0033557 ,\n",
       "       0.0033557 , 0.0033557 , 0.0033557 , 0.0033557 , 0.0033557 ,\n",
       "       0.0033557 , 0.0033557 , 0.0033557 , 0.0033557 , 0.0033557 ,\n",
       "       0.02684564, 0.0033557 , 0.0033557 , 0.01342282, 0.0033557 ,\n",
       "       0.0033557 , 0.0033557 , 0.00671141, 0.0033557 , 0.0033557 ,\n",
       "       0.0033557 , 0.0033557 , 0.0033557 , 0.0033557 , 0.0033557 ,\n",
       "       0.0033557 , 0.01006711, 0.0033557 , 0.00671141, 0.0033557 ,\n",
       "       0.0033557 , 0.0033557 , 0.01006711, 0.0033557 , 0.01342282,\n",
       "       0.0033557 , 0.0033557 , 0.0033557 , 0.00671141, 0.0033557 ,\n",
       "       0.0033557 , 0.0033557 , 0.0033557 , 0.0033557 , 0.0033557 ,\n",
       "       0.00671141, 0.01677852, 0.0033557 , 0.0033557 , 0.0033557 ,\n",
       "       0.0033557 , 0.0033557 , 0.0033557 , 0.0033557 , 0.02013423,\n",
       "       0.0033557 , 0.0033557 , 0.0033557 , 0.01677852, 0.00671141,\n",
       "       0.00671141, 0.0033557 , 0.0033557 , 0.0033557 , 0.0033557 ,\n",
       "       0.0033557 , 0.0033557 , 0.0033557 , 0.00671141, 0.0033557 ,\n",
       "       0.01677852, 0.0033557 , 0.0033557 , 0.00671141, 0.01677852,\n",
       "       0.01677852, 0.0033557 , 0.0033557 , 0.0033557 , 0.0033557 ,\n",
       "       0.02348993, 0.04697987, 0.0033557 , 0.0033557 , 0.00671141,\n",
       "       0.0033557 , 0.0033557 , 0.0033557 , 0.0033557 , 0.0033557 ,\n",
       "       0.0033557 , 0.0033557 , 0.0033557 , 0.01006711, 0.0033557 ,\n",
       "       0.0033557 , 0.00671141, 0.0033557 , 0.0033557 , 0.0033557 ,\n",
       "       0.0033557 , 0.00671141, 0.0033557 , 0.0033557 , 0.01342282,\n",
       "       0.04026846, 0.00671141, 0.0033557 , 0.0033557 , 0.0033557 ,\n",
       "       0.0033557 , 0.01006711, 0.0033557 , 0.0033557 , 0.0033557 ,\n",
       "       0.0033557 , 0.0033557 , 0.0033557 , 0.0033557 , 0.01342282,\n",
       "       0.0033557 , 0.0033557 , 0.0033557 , 0.00671141, 0.00671141,\n",
       "       0.0033557 , 0.0033557 , 0.0033557 , 0.0033557 , 0.00671141,\n",
       "       0.0033557 , 0.0033557 , 0.0033557 , 0.0033557 , 0.0033557 ,\n",
       "       0.0033557 , 0.00671141, 0.01677852, 0.0033557 , 0.0033557 ,\n",
       "       0.0033557 , 0.00671141, 0.01006711, 0.0033557 , 0.0033557 ,\n",
       "       0.0033557 , 0.0033557 , 0.0033557 , 0.0033557 , 0.0033557 ,\n",
       "       0.0033557 , 0.00671141, 0.0033557 , 0.0033557 , 0.0033557 ,\n",
       "       0.0033557 , 0.0033557 , 0.0033557 , 0.0033557 , 0.0033557 ,\n",
       "       0.00671141, 0.0033557 , 0.0033557 , 0.0033557 , 0.0033557 ,\n",
       "       0.01677852, 0.01342282, 0.0033557 , 0.0033557 , 0.0033557 ,\n",
       "       0.0033557 , 0.0033557 , 0.0033557 ])"
      ]
     },
     "execution_count": 170,
     "metadata": {},
     "output_type": "execute_result"
    }
   ],
   "source": [
    "scipy.optimize.minimize(unigram_prob, doc.num.values / total, options={\"maxiter\": 10000})"
   ]
  },
  {
   "cell_type": "code",
   "execution_count": 155,
   "metadata": {},
   "outputs": [
    {
     "data": {
      "text/plain": [
       "-0.0"
      ]
     },
     "execution_count": 155,
     "metadata": {},
     "output_type": "execute_result"
    }
   ],
   "source": [
    "p = scipy.stats.dirichlet.rvs(alpha=np.repeat(0.1, len(words)), size=1)[0]\n",
    "unigram_prob(p)"
   ]
  },
  {
   "cell_type": "code",
   "execution_count": 157,
   "metadata": {},
   "outputs": [],
   "source": [
    "ps = scipy.stats.dirichlet.rvs(alpha=np.repeat(0.1, len(words)), size=10000)"
   ]
  },
  {
   "cell_type": "code",
   "execution_count": 161,
   "metadata": {},
   "outputs": [
    {
     "data": {
      "text/plain": [
       "-0.0"
      ]
     },
     "execution_count": 161,
     "metadata": {},
     "output_type": "execute_result"
    }
   ],
   "source": [
    "min(unigram_prob(ps))"
   ]
  },
  {
   "cell_type": "code",
   "execution_count": 88,
   "metadata": {},
   "outputs": [
    {
     "data": {
      "text/plain": [
       "0.0"
      ]
     },
     "execution_count": 88,
     "metadata": {},
     "output_type": "execute_result"
    }
   ],
   "source": [
    "scipy.stats.multinomial.pmf([2,10], n=5, p=[0.3, 0.7])"
   ]
  },
  {
   "cell_type": "code",
   "execution_count": 83,
   "metadata": {},
   "outputs": [
    {
     "data": {
      "text/plain": [
       "[<matplotlib.lines.Line2D at 0x1b74185fcf8>]"
      ]
     },
     "execution_count": 83,
     "metadata": {},
     "output_type": "execute_result"
    },
    {
     "data": {
      "image/png": "[encoded data removed]",
      "text/plain": [
       "<Figure size 432x288 with 1 Axes>"
      ]
     },
     "metadata": {},
     "output_type": "display_data"
    }
   ],
   "source": [
    "plt.plot(scipy.stats.binom.pmf(range(10), n=10, p=0.3))"
   ]
  },
  {
   "cell_type": "code",
   "execution_count": 71,
   "metadata": {},
   "outputs": [
    {
     "data": {
      "text/plain": [
       "[<matplotlib.lines.Line2D at 0x1b7416cef28>]"
      ]
     },
     "execution_count": 71,
     "metadata": {},
     "output_type": "execute_result"
    },
    {
     "data": {
      "image/png": "[encoded data removed]",
      "text/plain": [
       "<Figure size 432x288 with 1 Axes>"
      ]
     },
     "metadata": {},
     "output_type": "display_data"
    }
   ],
   "source": [
    "plt.plot(scipy.stats.binom.pmf(range(10), p=0.3, n=10))"
   ]
  },
  {
   "cell_type": "code",
   "execution_count": 79,
   "metadata": {},
   "outputs": [
    {
     "data": {
      "text/plain": [
       "[<matplotlib.lines.Line2D at 0x1b7417909b0>]"
      ]
     },
     "execution_count": 79,
     "metadata": {},
     "output_type": "execute_result"
    },
    {
     "data": {
      "image/png": "[encoded data removed]",
      "text/plain": [
       "<Figure size 432x288 with 1 Axes>"
      ]
     },
     "metadata": {},
     "output_type": "display_data"
    }
   ],
   "source": [
    "x = np.arange(-3, 3, 0.1)\n",
    "plt.plot(x, scipy.stats.norm.pdf(x, loc=0, scale=1))"
   ]
  },
  {
   "cell_type": "code",
   "execution_count": 80,
   "metadata": {},
   "outputs": [
    {
     "data": {
      "text/plain": [
       "[<matplotlib.lines.Line2D at 0x1b7417f3cc0>]"
      ]
     },
     "execution_count": 80,
     "metadata": {},
     "output_type": "execute_result"
    },
    {
     "data": {
      "image/png": "[encoded data removed]",
      "text/plain": [
       "<Figure size 432x288 with 1 Axes>"
      ]
     },
     "metadata": {},
     "output_type": "display_data"
    }
   ],
   "source": [
    "plt.plot(scipy.stats.norm.pdf(np.arange(-3, 3, 0.1), loc=0, scale=1))"
   ]
  },
  {
   "cell_type": "code",
   "execution_count": null,
   "metadata": {},
   "outputs": [],
   "source": []
  },
  {
   "cell_type": "code",
   "execution_count": null,
   "metadata": {},
   "outputs": [],
   "source": []
  }
 ],
 "metadata": {
  "kernelspec": {
   "display_name": "Python 3",
   "language": "python",
   "name": "python3"
  },
  "language_info": {
   "codemirror_mode": {
    "name": "ipython",
    "version": 3
   },
   "file_extension": ".py",
   "mimetype": "text/x-python",
   "name": "python",
   "nbconvert_exporter": "python",
   "pygments_lexer": "ipython3",
   "version": "3.6.5"
  },
  "varInspector": {
   "cols": {
    "lenName": 16,
    "lenType": 16,
    "lenVar": 40
   },
   "kernels_config": {
    "python": {
     "delete_cmd_postfix": "",
     "delete_cmd_prefix": "del ",
     "library": "var_list.py",
     "varRefreshCmd": "print(var_dic_list())"
    },
    "r": {
     "delete_cmd_postfix": ") ",
     "delete_cmd_prefix": "rm(",
     "library": "var_list.r",
     "varRefreshCmd": "cat(var_dic_list()) "
    }
   },
   "types_to_exclude": [
    "module",
    "function",
    "builtin_function_or_method",
    "instance",
    "_Feature"
   ],
   "window_display": false
  }
 },
 "nbformat": 4,
 "nbformat_minor": 2
}
