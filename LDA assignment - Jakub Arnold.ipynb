{
 "cells": [
  {
   "cell_type": "markdown",
   "metadata": {},
   "source": [
    "# [Selected Problems in Machine Learning (NPFL097)](https://ufal.mff.cuni.cz/courses/npfl097)"
   ]
  },
  {
   "cell_type": "code",
   "execution_count": 82,
   "metadata": {},
   "outputs": [],
   "source": [
    "import numpy as np\n",
    "\n",
    "import matplotlib.pyplot as plt\n",
    "%matplotlib inline\n",
    "\n",
    "import seaborn as sns\n",
    "\n",
    "from glob import glob"
   ]
  },
  {
   "cell_type": "code",
   "execution_count": 2,
   "metadata": {},
   "outputs": [
    {
     "data": {
      "text/plain": [
       "['data/dictionary.txt', 'data/test_data.tsv', 'data/training_data.tsv']"
      ]
     },
     "execution_count": 2,
     "metadata": {},
     "output_type": "execute_result"
    }
   ],
   "source": [
    "glob(\"data/*\")"
   ]
  },
  {
   "cell_type": "code",
   "execution_count": 3,
   "metadata": {},
   "outputs": [],
   "source": [
    "train = np.genfromtxt(\"data/training_data.tsv\", delimiter=\"\\t\", dtype=np.int32)\n",
    "test = np.genfromtxt(\"data/test_data.tsv\", delimiter=\"\\t\", dtype=np.int32)\n",
    "dictionary = np.genfromtxt(\"data/dictionary.txt\", dtype=np.string_)"
   ]
  },
  {
   "cell_type": "code",
   "execution_count": 4,
   "metadata": {},
   "outputs": [
    {
     "data": {
      "text/plain": [
       "array([b'aarp', b'abandon', b'abandoned', ..., b'zogbys', b'zone',\n",
       "       b'zones'], dtype='|S40')"
      ]
     },
     "execution_count": 4,
     "metadata": {},
     "output_type": "execute_result"
    }
   ],
   "source": [
    "dictionary"
   ]
  },
  {
   "cell_type": "markdown",
   "metadata": {},
   "source": [
    "## Question 1.\n",
    "\n",
    "**Using the training data, compute the maximum likelihood estimation over the words across\n",
    "the documents. Plot a histogram showing 20 most probable words.**"
   ]
  },
  {
   "cell_type": "markdown",
   "metadata": {},
   "source": [
    "The model is just a Multinomial distribution, that is\n",
    "\n",
    "$$\n",
    "p(x | \\pi, n) = \\binom{n!}{x_1!,x_2!,\\ldots,x_m!} \\prod_{i=1}^m \\pi_i^{x_i} = n! \\prod_{i=1}^m \\frac{\\pi_i^{x_i}}{x_i!}\n",
    "$$\n",
    "\n",
    "where $\\pi_i$ is the probability of $i-th$ word, $x_i$ is the number of occurences of the $i-th$ word, $m$ is the number of words in the dictionary, and $n$ is the total number of occurences.\n",
    "\n",
    "We compute $\\pi_i$ using MLE, that is simply\n",
    "\n",
    "$$\n",
    "\\pi_i = \\frac{x_i}{n}.\n",
    "$$"
   ]
  },
  {
   "cell_type": "code",
   "execution_count": 5,
   "metadata": {},
   "outputs": [],
   "source": [
    "m = len(dictionary)\n",
    "\n",
    "def compute_counts(document):\n",
    "    counts = np.zeros(m, np.int32)\n",
    "    \n",
    "    for document_id, word_id, count in document:\n",
    "        counts[word_id - 1] += count\n",
    "        \n",
    "    return counts"
   ]
  },
  {
   "cell_type": "code",
   "execution_count": 6,
   "metadata": {},
   "outputs": [],
   "source": [
    "counts = compute_counts(train)\n",
    "n = counts.sum()\n",
    "\n",
    "pi_mle = counts.astype(np.float32) / n"
   ]
  },
  {
   "cell_type": "markdown",
   "metadata": {},
   "source": [
    "Most probable word is simply the one with the highest MLE"
   ]
  },
  {
   "cell_type": "code",
   "execution_count": 7,
   "metadata": {},
   "outputs": [
    {
     "data": {
      "text/plain": [
       "b'bush'"
      ]
     },
     "execution_count": 7,
     "metadata": {},
     "output_type": "execute_result"
    }
   ],
   "source": [
    "dictionary[np.argmax(pi_mle)]"
   ]
  },
  {
   "cell_type": "code",
   "execution_count": 8,
   "metadata": {},
   "outputs": [
    {
     "data": {
      "text/plain": [
       "(3833, 0.014097198214036146)"
      ]
     },
     "execution_count": 8,
     "metadata": {},
     "output_type": "execute_result"
    }
   ],
   "source": [
    "max(counts), max(pi_mle)"
   ]
  },
  {
   "cell_type": "code",
   "execution_count": 9,
   "metadata": {},
   "outputs": [],
   "source": [
    "max_mle = pi_mle[np.argsort(pi_mle)[-20:]]\n",
    "most_probable_words = dictionary[np.argsort(pi_mle)[-20:]]"
   ]
  },
  {
   "cell_type": "code",
   "execution_count": 10,
   "metadata": {},
   "outputs": [
    {
     "data": {
      "text/plain": [
       "array([0.00340937, 0.00342776, 0.00343143, 0.00344615, 0.00352706,\n",
       "       0.00353441, 0.00384335, 0.00388749, 0.00401989, 0.00432883,\n",
       "       0.00450537, 0.00468558, 0.00497245, 0.00498716, 0.00534392,\n",
       "       0.00535863, 0.00570067, 0.00841124, 0.00967642, 0.0140972 ])"
      ]
     },
     "execution_count": 10,
     "metadata": {},
     "output_type": "execute_result"
    }
   ],
   "source": [
    "max_mle"
   ]
  },
  {
   "cell_type": "code",
   "execution_count": 11,
   "metadata": {},
   "outputs": [
    {
     "data": {
      "text/plain": [
       "[<matplotlib.lines.Line2D at 0x7f162c0c4710>]"
      ]
     },
     "execution_count": 11,
     "metadata": {},
     "output_type": "execute_result"
    },
    {
     "data": {
      "image/png": "[encoded data removed]",
      "text/plain": [
       "<Figure size 864x432 with 1 Axes>"
      ]
     },
     "metadata": {
      "needs_background": "light"
     },
     "output_type": "display_data"
    }
   ],
   "source": [
    "plt.figure(figsize=(12,6))\n",
    "plt.xticks(rotation=90)\n",
    "plt.plot(most_probable_words, max_mle, \"x\")"
   ]
  },
  {
   "cell_type": "markdown",
   "metadata": {},
   "source": [
    "## Question 2.\n",
    "\n",
    "**What is the log-probability of the test data if we use the MLE model from question 1)? Note\n",
    "that the test set contains words which are not contained in the training set. Explain**"
   ]
  },
  {
   "cell_type": "markdown",
   "metadata": {},
   "source": [
    "The log probability is then\n",
    "\n",
    "$$\n",
    "\\begin{align}\n",
    "\\log \\left( n! \\prod_{i=1}^m \\frac{\\pi_i^{x_i}}{x_i!} \\right) &= \\log n! + \\sum_{i=1}^m x_i \\log \\pi_i - \\sum_{i=1}^m \\log x_i! \\\\\n",
    "&= \\sum_{i=1}^n \\log i + \\sum_{i=1}^m x_i \\log \\pi_i - \\sum_{i=1}^m \\sum_{j=1}^{x_i} \\log j\n",
    "\\end{align}\n",
    "$$"
   ]
  },
  {
   "cell_type": "code",
   "execution_count": 12,
   "metadata": {},
   "outputs": [],
   "source": [
    "def logfact(k):\n",
    "    return np.sum(np.log2(np.array(range(int(k)), dtype=np.float32) + 1))\n",
    "\n",
    "def log_prob(dataset, pi):\n",
    "    counts = compute_counts(dataset)\n",
    "    \n",
    "    return np.sum(counts * np.log2(pi))\n",
    "    \n",
    "#     t1 = np.sum(logfact(n))\n",
    "#     t2 = np.sum(counts * np.log2(pi))\n",
    "#     t3 = np.sum([logfact(c) for c in counts])\n",
    "\n",
    "#     return t1 + t2 - t3"
   ]
  },
  {
   "cell_type": "code",
   "execution_count": 13,
   "metadata": {},
   "outputs": [
    {
     "name": "stderr",
     "output_type": "stream",
     "text": [
      "/home/darth/.venv/tf-gpu/lib/python3.6/site-packages/ipykernel_launcher.py:7: RuntimeWarning: divide by zero encountered in log2\n",
      "  import sys\n"
     ]
    },
    {
     "data": {
      "text/plain": [
       "-inf"
      ]
     },
     "execution_count": 13,
     "metadata": {},
     "output_type": "execute_result"
    }
   ],
   "source": [
    "log_prob(test, pi_mle)"
   ]
  },
  {
   "cell_type": "markdown",
   "metadata": {},
   "source": [
    "The log probability is *-inf* since there are words in the test set that are not present in the training set, and as such their probability is $0$, and $\\log(0) = -\\infty$."
   ]
  },
  {
   "cell_type": "markdown",
   "metadata": {},
   "source": [
    "## Question 3.\n",
    "\n",
    "**Instead of MLE, do the Bayesian inference model on the training data using a symmetric Dirichlet prior with a concentration parameter 0.1. Provide a formula for the predictive distribution.**"
   ]
  },
  {
   "cell_type": "markdown",
   "metadata": {},
   "source": [
    "I'm not sure what the *predictive distribution* is in this context, since it could be either for the Dirichlet-Categorical or the Dirichlet-Multinomial, so I'm going to provide both :)\n",
    "\n",
    "In general, posterior predictive is\n",
    "\n",
    "$$\n",
    "p(X | D) = \\int p(X|\\theta) p(\\theta|D)\\ d\\theta\n",
    "$$\n",
    "\n",
    "For Dirichlet-Categorical ($Dir(\\alpha + D)$ means the posterior for $p(\\alpha|D)$, which for Dirichlet-Categorical is just adding the psuedo-counts together, where $D$ are the pseudo-counts, $\\boldsymbol\\pi$ is the Categorical probabilities, $\\boldsymbol\\alpha$ are the concentrations).\n",
    "\n",
    "$$\n",
    "\\begin{align}\n",
    "p(X=j | D) &= \\int p(X=j|\\boldsymbol\\pi) p(\\boldsymbol\\pi|D)\\ d\\pi \\\\\n",
    "&= \\int Cat(X=j|\\boldsymbol\\pi) p(\\boldsymbol\\pi|D)\\ d\\pi \\\\\n",
    "&= \\int \\boldsymbol\\pi_j p(\\boldsymbol\\pi|D) \\ d\\pi \n",
    "\\end{align}\n",
    "$$\n",
    "\n",
    "splitting the integral into $\\pi_{\\neg j} = (\\pi_1, \\ldots, \\pi_{j-1},\\pi_{j+1},\\ldots, \\pi_m)$ and $\\pi_j$ and writing it as a double integral\n",
    "\n",
    "$$\n",
    "\\begin{align}\n",
    "&= \\int \\int \\boldsymbol\\pi_j p(\\boldsymbol\\pi|D) \\ d\\pi_{\\neg j}\\ d\\pi_j \\\\\n",
    "&= \\int \\pi_j \\int p(\\boldsymbol\\pi|D) \\ d\\pi_{\\neg j}\\ d\\pi_j \\\\\n",
    "&= \\int \\pi_j p(\\pi_j) d\\pi_j\n",
    "\\end{align}\n",
    "$$\n",
    "\n",
    "where the last equation is simply because of marginalization. This is simply \n",
    "\n",
    "$$\n",
    "E[\\pi_j | D] = \\frac{\\alpha_j + x_j}{\\sum_{i=1}^m (\\alpha_i + x_i)}\n",
    "$$"
   ]
  },
  {
   "cell_type": "markdown",
   "metadata": {},
   "source": [
    "**In any case, I'll simply assume the Dirichlet-Categorical case in the rest of the code.**"
   ]
  },
  {
   "cell_type": "code",
   "execution_count": 18,
   "metadata": {},
   "outputs": [],
   "source": [
    "def dirichlet_categorical_posterior(dataset, alpha):\n",
    "    counts = compute_counts(dataset)\n",
    "    n = counts.sum()\n",
    "\n",
    "    return (counts + alpha) / (n + m*alpha)"
   ]
  },
  {
   "cell_type": "code",
   "execution_count": 19,
   "metadata": {
    "scrolled": true
   },
   "outputs": [
    {
     "data": {
      "text/plain": [
       "array([1.50409812e-05, 6.27318971e-05, 4.80577691e-05, ...,\n",
       "       6.27318971e-05, 1.17759877e-04, 2.23780452e-05])"
      ]
     },
     "execution_count": 19,
     "metadata": {},
     "output_type": "execute_result"
    }
   ],
   "source": [
    "pi_posterior = dirichlet_categorical_posterior(train, 0.1)\n",
    "pi_posterior"
   ]
  },
  {
   "cell_type": "code",
   "execution_count": 20,
   "metadata": {},
   "outputs": [
    {
     "data": {
      "text/plain": [
       "[<matplotlib.lines.Line2D at 0x7f1625ff56a0>]"
      ]
     },
     "execution_count": 20,
     "metadata": {},
     "output_type": "execute_result"
    },
    {
     "data": {
      "image/png": "[encoded data removed]",
      "text/plain": [
       "<Figure size 432x288 with 1 Axes>"
      ]
     },
     "metadata": {
      "needs_background": "light"
     },
     "output_type": "display_data"
    }
   ],
   "source": [
    "plt.plot(np.sort(pi_posterior))"
   ]
  },
  {
   "cell_type": "markdown",
   "metadata": {},
   "source": [
    "## Question 4:\n",
    "\n",
    "**Using the Bayesian model from question 3, compute the log probability and the per-word perplexity of the test data.**"
   ]
  },
  {
   "cell_type": "code",
   "execution_count": 21,
   "metadata": {},
   "outputs": [
    {
     "name": "stdout",
     "output_type": "stream",
     "text": [
      "Train log P = -3081803.2292384217\n",
      "Test log P = -2231753.5169690647\n"
     ]
    }
   ],
   "source": [
    "print(f\"Train log P = {log_prob(train, pi_posterior)}\")\n",
    "print(f\"Test log P = {log_prob(test, pi_posterior)}\")"
   ]
  },
  {
   "cell_type": "markdown",
   "metadata": {},
   "source": [
    "$$\n",
    "\\exp\\left(-\\log p(data) / n\\right) = \\exp\\left(-\\log \\prod_{i=1}^m \\pi_i^{x_i} / n\\right) = \\exp\\left(-\\sum_{i=1}^m x_i \\log \\pi_i / n \\right)\n",
    "$$"
   ]
  },
  {
   "cell_type": "code",
   "execution_count": 22,
   "metadata": {},
   "outputs": [],
   "source": [
    "def per_word_perplexity(dataset, pi):\n",
    "    counts = compute_counts(dataset)\n",
    "    n = counts.sum()\n",
    "        \n",
    "    logp = log_prob(dataset, pi)\n",
    "\n",
    "    return 2**(- logp / n)"
   ]
  },
  {
   "cell_type": "code",
   "execution_count": 23,
   "metadata": {
    "scrolled": true
   },
   "outputs": [
    {
     "name": "stdout",
     "output_type": "stream",
     "text": [
      "Per word perplexity = 2697.1068182222193\n"
     ]
    }
   ],
   "source": [
    "print(f\"Per word perplexity = {per_word_perplexity(test, pi_posterior)}\")"
   ]
  },
  {
   "cell_type": "markdown",
   "metadata": {},
   "source": [
    "# Question 5:\n",
    "\n",
    "**Compute the per-word perplexity of the test data using uniform multinomial dictribution\n",
    "over the dictionary. Compare this value to the previously computed perplexities and explain.**"
   ]
  },
  {
   "cell_type": "code",
   "execution_count": 24,
   "metadata": {},
   "outputs": [
    {
     "name": "stdout",
     "output_type": "stream",
     "text": [
      "Uniform prior perplexity = 6905.99999999999\n"
     ]
    }
   ],
   "source": [
    "pi_uniform = np.array([1/len(dictionary) for _ in range(len(dictionary))])\n",
    "\n",
    "print(f\"Uniform prior perplexity = {per_word_perplexity(test, pi_uniform)}\")"
   ]
  },
  {
   "cell_type": "markdown",
   "metadata": {},
   "source": [
    "In the uniform case we get exactly\n",
    "\n",
    "$$\n",
    "2^{-\\log 1/m} = \\frac{1}{2^{\\log 1/m}} = m\n",
    "$$\n",
    "\n",
    "which is the size of the dictionary."
   ]
  },
  {
   "cell_type": "code",
   "execution_count": 25,
   "metadata": {},
   "outputs": [
    {
     "data": {
      "text/plain": [
       "<matplotlib.legend.Legend at 0x7f16278ca630>"
      ]
     },
     "execution_count": 25,
     "metadata": {},
     "output_type": "execute_result"
    },
    {
     "data": {
      "image/png": "[encoded data removed]",
      "text/plain": [
       "<Figure size 432x288 with 1 Axes>"
      ]
     },
     "metadata": {
      "needs_background": "light"
     },
     "output_type": "display_data"
    }
   ],
   "source": [
    "plt.plot(np.log2(np.sort(pi_posterior)), label=\"alpha=0.1\")\n",
    "plt.plot(np.log2(np.sort(pi_uniform)), label=\"uniform\")\n",
    "plt.legend()"
   ]
  },
  {
   "cell_type": "markdown",
   "metadata": {},
   "source": [
    "## Question 6:\n",
    "\n",
    "**Implement the Latent Dirichlet allocation topic model as described in the previous lectures.\n",
    "Set the hyperparameters α = 0.1, γ = 0.1 and set number of topics K = 20. Plot the topic\n",
    "posteriors of the document 1 as a function of the number of Gibbs sweeps, up to 20 sweeps.\n",
    "Comment on these.**"
   ]
  },
  {
   "cell_type": "markdown",
   "metadata": {},
   "source": [
    "The general model parameters:\n",
    "\n",
    "- $D$ is the number of documents.\n",
    "- $m$ is the number of unique words in the dictionary.\n",
    "- $N_d$ is the number of words in document $D$, these are not the same.\n",
    "- $K$ is the number of topics, fixed at $20$.\n",
    "- $\\alpha$ and $\\gamma$ are prior parameters set both at fixed $0.1$ for a symmetric Dirichlet\n",
    "- $z_{nd}$ assigns a topic to each position $n$ in document $d$. This can't be a matrix since the documents have varying length.\n",
    "- $w_{nd}$ assigns a word to each position $n$ in document $d$. These are drawn from the distribution for $\\beta_{z_{nd}}$\n",
    "\n",
    "and the counters:\n",
    "\n",
    "- $c_{kd}$ ... number of words assigned (total counts) to topic $k$ in document $d$.\n",
    "- $c_{km}$ ... number of times a word $m$ is assigned to topic $k$.\n",
    "- $c_k$ ... number of words assigned (total counts) to topic $k$ across all documents."
   ]
  },
  {
   "cell_type": "code",
   "execution_count": 68,
   "metadata": {},
   "outputs": [],
   "source": [
    "D = len(np.unique(train[:,0]))\n",
    "\n",
    "# Number of word positions in each document\n",
    "N_D = np.zeros((D,), dtype=np.int32)\n",
    "\n",
    "for document_id, word_id, count in train:\n",
    "    N_D[document_id - 1] += count"
   ]
  },
  {
   "cell_type": "markdown",
   "metadata": {},
   "source": [
    "Each document has different size, which makes things a bit more complicated implementation wise."
   ]
  },
  {
   "cell_type": "code",
   "execution_count": 69,
   "metadata": {
    "scrolled": false
   },
   "outputs": [
    {
     "data": {
      "image/png": "[encoded data removed]",
      "text/plain": [
       "<Figure size 432x288 with 1 Axes>"
      ]
     },
     "metadata": {
      "needs_background": "light"
     },
     "output_type": "display_data"
    }
   ],
   "source": [
    "plt.title(\"Distribution of document sizes (word positions)\")\n",
    "plt.hist(N_D)\n",
    "plt.show()"
   ]
  },
  {
   "cell_type": "code",
   "execution_count": 70,
   "metadata": {},
   "outputs": [],
   "source": [
    "K = 20\n",
    "alpha = 0.1\n",
    "gamma = 0.1\n",
    "M = len(dictionary)\n",
    "\n",
    "z_DN = [np.random.randint(0, K, size=N_D[d]) for d in range(D)]"
   ]
  },
  {
   "cell_type": "markdown",
   "metadata": {},
   "source": [
    "This part doesn't make much sense, but there is no other way we can get $w_{nd}$ than by expanding the counts into a sequence of words."
   ]
  },
  {
   "cell_type": "code",
   "execution_count": 71,
   "metadata": {
    "scrolled": true
   },
   "outputs": [],
   "source": [
    "w_DN = []\n",
    "\n",
    "for d in range(D):\n",
    "    train_d = train[train[:,0] == d+1][:,1:3]\n",
    "    \n",
    "    res = np.zeros(0, dtype=np.int32)\n",
    "    \n",
    "    for word_id, count in train_d:\n",
    "        repeats = np.repeat(word_id - 1, count)\n",
    "        \n",
    "        res = np.hstack((res, repeats))\n",
    "        \n",
    "    w_DN.append(res)"
   ]
  },
  {
   "cell_type": "markdown",
   "metadata": {},
   "source": [
    "A simple check, since we should have the same number of topic assignemnts for word positions as the actual words."
   ]
  },
  {
   "cell_type": "code",
   "execution_count": 72,
   "metadata": {},
   "outputs": [],
   "source": [
    "assert sum(map(len, w_DN)) == sum(map(len, z_DN))"
   ]
  },
  {
   "cell_type": "markdown",
   "metadata": {},
   "source": [
    "Now we just compute the counts"
   ]
  },
  {
   "cell_type": "code",
   "execution_count": 73,
   "metadata": {},
   "outputs": [],
   "source": [
    "c_KD = np.zeros((K, D), dtype=np.int)\n",
    "c_KM = np.zeros((K, M), dtype=np.int)\n",
    "c_K = np.zeros((K,), dtype=np.int)\n",
    "\n",
    "for d, document in enumerate(z_DN):\n",
    "    for n, k in enumerate(document):\n",
    "        m = w_DN[d][n]\n",
    "        \n",
    "        c_KD[k, d] += 1\n",
    "        c_KM[k, m] += 1\n",
    "        c_K[k] += 1"
   ]
  },
  {
   "cell_type": "code",
   "execution_count": 74,
   "metadata": {},
   "outputs": [],
   "source": [
    "# All the counts should sum to each other\n",
    "assert np.sum(c_KM) == np.sum(c_K)\n",
    "assert np.sum(c_KD) == np.sum(c_K)\n",
    "assert np.sum(c_KD) == np.sum(c_KM)"
   ]
  },
  {
   "cell_type": "code",
   "execution_count": 75,
   "metadata": {},
   "outputs": [],
   "source": [
    "from tqdm import tqdm, tqdm_notebook"
   ]
  },
  {
   "cell_type": "code",
   "execution_count": 76,
   "metadata": {
    "scrolled": true
   },
   "outputs": [
    {
     "name": "stderr",
     "output_type": "stream",
     "text": [
      "100%|██████████| 20/20 [23:03<00:00, 69.48s/it]\n"
     ]
    }
   ],
   "source": [
    "n_iter = 20\n",
    "\n",
    "sweeps = []\n",
    "\n",
    "for i in tqdm(range(n_iter)):\n",
    "    for d in range(D):\n",
    "        for n in range(N_D[d]):\n",
    "            z_nd = z_DN[d][n]\n",
    "            w_nd = w_DN[d][n]\n",
    "            \n",
    "            c_KD[z_nd, d] = max(0, c_KD[z_nd, d] - 1)\n",
    "            c_KM[z_nd, w_nd] = max(0, c_KM[z_nd, w_nd] - 1)\n",
    "            c_K[z_nd] = max(0, c_K[z_nd] - 1)\n",
    "\n",
    "            p = np.zeros((K,), dtype=np.float32)\n",
    "            \n",
    "            for k in range(K):\n",
    "                a = (alpha + c_KD[k, d]) / (K * alpha + N_D[d] - 1)\n",
    "                b = (gamma + c_KM[k, w_nd]) / (M * gamma + c_K[k])\n",
    "                p[k] = a*b\n",
    "                \n",
    "            p /= sum(p)\n",
    "            assert np.allclose(1, sum(p)), f\"sum(P) = {sum(p)}\"           \n",
    "                \n",
    "            k = np.random.choice(range(len(p)), p=p) # sample k\n",
    "            \n",
    "            z_nd = k\n",
    "            \n",
    "            c_KD[k, d] += 1\n",
    "            c_KM[k, w_nd] += 1\n",
    "            c_K[k] += 1\n",
    "            \n",
    "        if d == 0:\n",
    "            sweeps.append((p, c_KD.copy(), c_KM.copy(), c_K.copy()))"
   ]
  },
  {
   "cell_type": "markdown",
   "metadata": {},
   "source": [
    "**Plot the topic\n",
    "posteriors of the document 1 as a function of the number of Gibbs sweeps, up to 20 sweeps.**"
   ]
  },
  {
   "cell_type": "code",
   "execution_count": 83,
   "metadata": {},
   "outputs": [
    {
     "data": {
      "text/plain": [
       "Text(0.5, 1.0, 'Posterior probabilities for d1')"
      ]
     },
     "execution_count": 83,
     "metadata": {},
     "output_type": "execute_result"
    },
    {
     "data": {
      "image/png": "[encoded data removed]",
      "text/plain": [
       "<Figure size 432x288 with 1 Axes>"
      ]
     },
     "metadata": {
      "needs_background": "light"
     },
     "output_type": "display_data"
    }
   ],
   "source": [
    "ps = [s[0] for s in sweeps]\n",
    "\n",
    "for k in range(20):\n",
    "    plt.plot([p[k] for p in ps])\n",
    "\n",
    "plt.title(\"Posterior probabilities for d1\")"
   ]
  },
  {
   "cell_type": "markdown",
   "metadata": {},
   "source": [
    "We can see how they stabilize with higher number of sweeps."
   ]
  },
  {
   "cell_type": "markdown",
   "metadata": {},
   "source": [
    "## Question 7\n",
    "\n",
    "**Compute the word entropy for each of the topics as a function of the number of Gibbs\n",
    "sweeps. (1 pts)**"
   ]
  },
  {
   "cell_type": "markdown",
   "metadata": {},
   "source": [
    "Definition copied over from above for clarity:\n",
    "\n",
    "- $c_{kd}$ ... number of words assigned (total counts) to topic $k$ in document $d$.\n",
    "- $c_{km}$ ... number of times a word $m$ is assigned to topic $k$.\n",
    "- $c_k$ ... number of words assigned (total counts) to topic $k$ across all documents."
   ]
  },
  {
   "cell_type": "code",
   "execution_count": 102,
   "metadata": {
    "scrolled": false
   },
   "outputs": [],
   "source": [
    "per_topic_entropy = []\n",
    "\n",
    "for p, c_KD, c_KM, c_K in sweeps:\n",
    "    sweep_entropies = np.zeros((K,), dtype=np.float32)\n",
    "    \n",
    "    for k in range(K):\n",
    "        p_KM = c_KM[k,:] / sum(c_KM[k,:])\n",
    "        \n",
    "        # Avoiding zero count words\n",
    "        p_KM = p_KM[p_KM > 0]\n",
    "        \n",
    "        sweep_entropies[k] = -sum(p_KM * np.log2(p_KM))\n",
    "    \n",
    "    per_topic_entropy.append(sweep_entropies)"
   ]
  },
  {
   "cell_type": "code",
   "execution_count": 105,
   "metadata": {},
   "outputs": [
    {
     "data": {
      "text/plain": [
       "Text(0.5, 1.0, 'Per topic entropy')"
      ]
     },
     "execution_count": 105,
     "metadata": {},
     "output_type": "execute_result"
    },
    {
     "data": {
      "image/png": "[encoded data removed]",
      "text/plain": [
       "<Figure size 432x288 with 1 Axes>"
      ]
     },
     "metadata": {
      "needs_background": "light"
     },
     "output_type": "display_data"
    }
   ],
   "source": [
    "plt.plot(per_topic_entropy)\n",
    "plt.title(\"Per topic entropy\")"
   ]
  },
  {
   "cell_type": "markdown",
   "metadata": {},
   "source": [
    "At lower number of sweeps, the entropy is high as the distribution is not stabilized and assignments are random. As the number of sweeps increase, the word distribution stabilizes more towards higher probability words (as the $0.1$ Dirichlet prior suggests), which leads to higher mass on few words and lower overall entropy."
   ]
  },
  {
   "cell_type": "markdown",
   "metadata": {},
   "source": [
    "## Question 8\n",
    "\n",
    "**Show histograms of the most frequent 20 words of a three chosen topics after 20 Gibbs\n",
    "sweeps. (0.5 pts)**"
   ]
  },
  {
   "cell_type": "markdown",
   "metadata": {},
   "source": [
    "Definition copied over from above for clarity:\n",
    "\n",
    "- $c_{kd}$ ... number of words assigned (total counts) to topic $k$ in document $d$.\n",
    "- $c_{km}$ ... number of times a word $m$ is assigned to topic $k$.\n",
    "- $c_k$ ... number of words assigned (total counts) to topic $k$ across all documents."
   ]
  },
  {
   "cell_type": "code",
   "execution_count": 126,
   "metadata": {
    "scrolled": false
   },
   "outputs": [
    {
     "name": "stdout",
     "output_type": "stream",
     "text": [
      "\n",
      "\n",
      "\n"
     ]
    },
    {
     "data": {
      "image/png": "[encoded data removed]",
      "text/plain": [
       "<Figure size 432x216 with 1 Axes>"
      ]
     },
     "metadata": {
      "needs_background": "light"
     },
     "output_type": "display_data"
    },
    {
     "data": {
      "image/png": "[encoded data removed]",
      "text/plain": [
       "<Figure size 432x216 with 1 Axes>"
      ]
     },
     "metadata": {
      "needs_background": "light"
     },
     "output_type": "display_data"
    },
    {
     "data": {
      "image/png": "[encoded data removed]",
      "text/plain": [
       "<Figure size 432x216 with 1 Axes>"
      ]
     },
     "metadata": {
      "needs_background": "light"
     },
     "output_type": "display_data"
    }
   ],
   "source": [
    "for k in [1,2,4]:\n",
    "    plt.figure(figsize=(6,3))\n",
    "    plt.xticks(rotation=90)\n",
    "    c_M = c_KM[k, :] # Counts of words in topic k\n",
    "    plt.plot(dictionary[np.argsort(c_M)[-20:]], np.sort(c_M)[-20:], \"x\")\n",
    "    print()"
   ]
  },
  {
   "cell_type": "markdown",
   "metadata": {},
   "source": [
    "Doesn't seem to be working as expected, even among the better groups there are overlaps in words among the topics."
   ]
  },
  {
   "cell_type": "markdown",
   "metadata": {},
   "source": [
    "## Question 9\n",
    "\n",
    "**Compute the per-word perplexity of the test data for the state after 20 Gibbs sweeps, and\n",
    "compare it to the previously computed perplexities. Are 20 Gibbs sweeps adequate? (1 pts)**"
   ]
  },
  {
   "cell_type": "code",
   "execution_count": 130,
   "metadata": {},
   "outputs": [
    {
     "name": "stderr",
     "output_type": "stream",
     "text": [
      "/home/darth/.venv/tf-gpu/lib/python3.6/site-packages/ipykernel_launcher.py:7: RuntimeWarning: divide by zero encountered in log2\n",
      "  import sys\n"
     ]
    },
    {
     "data": {
      "text/plain": [
       "inf"
      ]
     },
     "execution_count": 130,
     "metadata": {},
     "output_type": "execute_result"
    }
   ],
   "source": [
    "def compute_counts(document):\n",
    "    counts = np.zeros(M, np.int32)\n",
    "    \n",
    "    for document_id, word_id, count in document:\n",
    "        counts[word_id - 1] += count\n",
    "        \n",
    "    return counts\n",
    "\n",
    "def per_word_perplexity(dataset, pi):\n",
    "    counts = compute_counts(dataset)\n",
    "    n = counts.sum()\n",
    "        \n",
    "    logp = log_prob(dataset, pi)\n",
    "\n",
    "    return 2**(- logp / n)\n",
    "\n",
    "\n",
    "c_KM1 = sweeps[-1][2]\n",
    "\n",
    "word_p = np.zeros((M,), dtype=np.float32)\n",
    "\n",
    "for m in range(M):\n",
    "    word_p[m] = np.sum(c_KM1[:, m]) / np.sum(c_KM1)\n",
    "\n",
    "per_word_perplexity(test, word_p)"
   ]
  },
  {
   "cell_type": "markdown",
   "metadata": {},
   "source": [
    "It seems 20 Gibbs sweeps are not enough, since we still get zero probability words."
   ]
  },
  {
   "cell_type": "markdown",
   "metadata": {},
   "source": [
    "## Question 10\n",
    "\n",
    "**Try to change the number of topics K, the hyperparameters α and β and the number of\n",
    "Gibbs sweeps. How the performance changes? (1 pts)**"
   ]
  },
  {
   "cell_type": "markdown",
   "metadata": {},
   "source": [
    "Didn't do because it's too slow and I'm already behind the deadline."
   ]
  },
  {
   "cell_type": "code",
   "execution_count": null,
   "metadata": {},
   "outputs": [],
   "source": []
  }
 ],
 "metadata": {
  "kernelspec": {
   "display_name": "Python 3",
   "language": "python",
   "name": "python3"
  },
  "language_info": {
   "codemirror_mode": {
    "name": "ipython",
    "version": 3
   },
   "file_extension": ".py",
   "mimetype": "text/x-python",
   "name": "python",
   "nbconvert_exporter": "python",
   "pygments_lexer": "ipython3",
   "version": "3.6.7"
  },
  "varInspector": {
   "cols": {
    "lenName": 16,
    "lenType": 16,
    "lenVar": 40
   },
   "kernels_config": {
    "python": {
     "delete_cmd_postfix": "",
     "delete_cmd_prefix": "del ",
     "library": "var_list.py",
     "varRefreshCmd": "print(var_dic_list())"
    },
    "r": {
     "delete_cmd_postfix": ") ",
     "delete_cmd_prefix": "rm(",
     "library": "var_list.r",
     "varRefreshCmd": "cat(var_dic_list()) "
    }
   },
   "types_to_exclude": [
    "module",
    "function",
    "builtin_function_or_method",
    "instance",
    "_Feature"
   ],
   "window_display": false
  }
 },
 "nbformat": 4,
 "nbformat_minor": 2
}
